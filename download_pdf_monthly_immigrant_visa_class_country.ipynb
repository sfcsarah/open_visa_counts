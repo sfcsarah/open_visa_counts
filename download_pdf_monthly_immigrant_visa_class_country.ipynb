{
 "cells": [
  {
   "cell_type": "markdown",
   "source": [
    "First we need to get all the PDF files from the Monthly immigrant visa issuance statistics page here: \n",
    "\n",
    "https://travel.state.gov/content/travel/en/legal/visa-law0/visa-statistics/immigrant-visa-statistics/monthly-immigrant-visa-issuances.html \n",
    "\n",
    "We want this file to do the following:\n",
    "\n",
    "- get files of the type: March 2017 - IV Issuances by FSC or Place of Birth and Visa Class\n",
    "    - FSC or Place of Birth basically equals country\n",
    "- output the PDFs to a single folder\n",
    "- save the list of links to a CSV file\n",
    "- bonus: check the CSV file for an existing list of files downloaded \n",
    "- - (assuming that all the files downloaded correctly)\n",
    "- - (skip the files in that list when running that update)"
   ],
   "metadata": {
    "collapsed": false
   },
   "id": "e32d17afec8dc38f"
  },
  {
   "cell_type": "code",
   "outputs": [],
   "source": [
    "import os \n",
    "import pandas as pd\n",
    "import time\n",
    "import requests\n",
    "from bs4 import BeautifulSoup as bs\n",
    "import json\n",
    "import random\n"
   ],
   "metadata": {
    "collapsed": false,
    "ExecuteTime": {
     "end_time": "2024-03-07T01:30:14.184513Z",
     "start_time": "2024-03-07T01:30:14.181180Z"
    }
   },
   "id": "63f70b1ed7123992",
   "execution_count": 19
  },
  {
   "cell_type": "code",
   "outputs": [],
   "source": [
    "base_url = 'https://travel.state.gov/content/travel/en/legal/visa-law0/visa-statistics/immigrant-visa-statistics/monthly-immigrant-visa-issuances.html'\n",
    "\n"
   ],
   "metadata": {
    "collapsed": false,
    "ExecuteTime": {
     "end_time": "2024-03-06T01:21:56.655400Z",
     "start_time": "2024-03-06T01:21:56.652780Z"
    }
   },
   "id": "ab0072147014d7f3",
   "execution_count": 2
  },
  {
   "cell_type": "code",
   "outputs": [
    {
     "name": "stdout",
     "output_type": "stream",
     "text": [
      "/content/dam/visas/Statistics/Immigrant-Statistics/MonthlyIVIssuances/March%202017%20-%20IV%20Issuances%20by%20FSC%20and%20Visa%20Class%20-%20Worldwide.pdf\n",
      "/content/dam/visas/Statistics/Immigrant-Statistics/MonthlyIVIssuances/APRIL%202017%20-%20IV%20Issuances%20by%20FSC%20and%20Visa%20Class.pdf\n",
      "/content/dam/visas/Statistics/Immigrant-Statistics/MonthlyIVIssuances/MAY%202017%20-%20IV%20Issuances%20by%20FSC%20and%20Visa%20Class.pdf\n",
      "/content/dam/visas/Statistics/Immigrant-Statistics/MonthlyIVIssuances/JUNE%202017%20-%20IV%20Issuances%20by%20FSC%20and%20Visa%20Class.pdf\n",
      "/content/dam/visas/Statistics/Immigrant-Statistics/MonthlyIVIssuances/JULY%202017%20-%20IV%20Issuances%20by%20FSC%20and%20Visa%20Class.pdf\n",
      "/content/dam/visas/Statistics/Immigrant-Statistics/MonthlyIVIssuances/AUGUST%202017%20-%20IV%20Issuances%20by%20FSC%20and%20Visa%20Class.pdf\n",
      "/content/dam/visas/Statistics/Immigrant-Statistics/MonthlyIVIssuances/SEPTEMBER%202017%20-%20IV%20Issuances%20by%20FSC%20and%20Visa%20Class.pdf\n",
      "/content/dam/visas/Statistics/Immigrant-Statistics/MonthlyIVIssuances/OCTOBER%202017%20-%20IV%20Issuances%20by%20FSC%20and%20Visa%20Class.pdf\n",
      "/content/dam/visas/Statistics/Immigrant-Statistics/MonthlyIVIssuances/NOVEMBER%202017%20-%20IV%20Issuances%20by%20FSC%20and%20Visa%20Class.pdf\n",
      "/content/dam/visas/Statistics/Immigrant-Statistics/MonthlyIVIssuances/DECEMBER%202017%20-%20IV%20Issuances%20by%20FSC%20and%20Visa%20Class.pdf\n",
      "/content/dam/visas/Statistics/Immigrant-Statistics/MonthlyIVIssuances/JANUARY%202018%20-%20IV%20Issuances%20by%20FSC%20and%20Visa%20Class.pdf\n",
      "/content/dam/visas/Statistics/Immigrant-Statistics/MonthlyIVIssuances/FEBRUARY%202018%20-%20IV%20Issuances%20by%20FSC%20and%20Visa%20Class.pdf\n",
      "/content/dam/visas/Statistics/Immigrant-Statistics/MonthlyIVIssuances/MARCH%202018%20-%20IV%20Issuances%20by%20FSC%20and%20Visa%20Class.pdf\n",
      "/content/dam/visas/Statistics/Immigrant-Statistics/MonthlyIVIssuances/APRIL%202018%20-%20IV%20Issuances%20by%20FSC%20and%20Visa%20Class.pdf\n",
      "/content/dam/visas/Statistics/Immigrant-Statistics/MonthlyIVIssuances/MAY%202018%20-%20IV%20Issuances%20by%20FSC%20and%20Visa%20Class.pdf\n",
      "/content/dam/visas/Statistics/Immigrant-Statistics/MonthlyIVIssuances/June%202018%20-%20IV%20Issuances%20by%20FSC%20and%20Visa%20Class.pdf\n",
      "/content/dam/visas/Statistics/Immigrant-Statistics/MonthlyIVIssuances/JULY%202018%20-%20IV%20Issuances%20by%20FSC%20and%20Visa%20Class.pdf\n",
      "/content/dam/visas/Statistics/Immigrant-Statistics/MonthlyIVIssuances/AUGUST%202018%20-%20IV%20Issuances%20by%20FSC%20and%20Visa%20Class.pdf\n",
      "/content/dam/visas/Statistics/Immigrant-Statistics/MonthlyIVIssuances/SEPTEMBER%202018%20-%20IV%20Issuances%20by%20FSC%20and%20Visa%20Class.pdf\n",
      "/content/dam/visas/Statistics/Immigrant-Statistics/MonthlyIVIssuances/October%202018%20-%20IV%20Issuances%20by%20FSC%20and%20Visa%20Class.pdf\n",
      "/content/dam/visas/Statistics/Immigrant-Statistics/MonthlyIVIssuances/November%202018%20-%20IV%20Issuances%20by%20FSC%20and%20Visa%20Class.pdf\n",
      "/content/dam/visas/Statistics/Immigrant-Statistics/MonthlyIVIssuances/DECEMBER%202018%20-%20IV%20Issuances%20by%20FSC%20and%20Visa%20Class.pdf\n",
      "/content/dam/visas/Statistics/Immigrant-Statistics/MonthlyIVIssuances/JANUARY%202019%20-%20IV%20Issuances%20by%20FSC%20and%20Visa%20Class.pdf\n",
      "/content/dam/visas/Statistics/Immigrant-Statistics/MonthlyIVIssuances/FEBRUARY%202019%20-%20IV%20Issuances%20by%20FSC%20and%20Visa%20Class.pdf\n",
      "/content/dam/visas/Statistics/Immigrant-Statistics/MonthlyIVIssuances/MARCH%202019%20-%20IV%20Issuances%20by%20FSC%20and%20Visa%20Class.pdf\n",
      "/content/dam/visas/Statistics/Immigrant-Statistics/MonthlyIVIssuances/APRIL%202019%20-%20IV%20Issuances%20by%20FSC%20and%20Visa%20Class.pdf\n",
      "/content/dam/visas/Statistics/Immigrant-Statistics/MonthlyIVIssuances/MAY%202019%20-%20IV%20Issuances%20by%20FSC%20and%20Visa%20Class.pdf\n",
      "/content/dam/visas/Statistics/Immigrant-Statistics/MonthlyIVIssuances/JUNE%202019%20-%20IV%20Issuances%20by%20FSC%20and%20Visa%20Class.pdf\n",
      "/content/dam/visas/Statistics/Immigrant-Statistics/MonthlyIVIssuances/JULY%202019%20-%20IV%20Issuances%20by%20FSC%20and%20Visa%20Class.pdf\n",
      "/content/dam/visas/Statistics/Immigrant-Statistics/MonthlyIVIssuances/AUGUST%202019%20-%20IV%20Issuances%20by%20FSC%20and%20Visa%20Class.pdf\n",
      "/content/dam/visas/Statistics/Immigrant-Statistics/MonthlyIVIssuances/SEPTEMBER%202019%20-%20IV%20Issuances%20by%20FSC%20and%20Visa%20Class.pdf\n",
      "/content/dam/visas/Statistics/Immigrant-Statistics/MonthlyIVIssuances/OCTOBER%202019%20IV%20Issuances%20by%20FSC%20and%20Visa%20Class.pdf\n",
      "/content/dam/visas/Statistics/Immigrant-Statistics/MonthlyIVIssuances/NOVEMBER%202019%20-%20IV%20Issuances%20by%20FSC%20and%20Visa%20Class.pdf\n",
      "/content/dam/visas/Statistics/Immigrant-Statistics/MonthlyIVIssuances/DECEMBER%202019%20-%20IV%20Issuances%20by%20FSC%20and%20Visa%20Class.pdf\n",
      "/content/dam/visas/Statistics/Immigrant-Statistics/MonthlyIVIssuances/JANUARY%202020%20-%20IV%20Issuances%20by%20FSC%20and%20Visa%20Class.pdf\n",
      "/content/dam/visas/Statistics/Immigrant-Statistics/MonthlyIVIssuances/FEBRUARY%202020%20-%20IV%20Issuances%20by%20FSC%20and%20Visa%20Class.pdf\n",
      "/content/dam/visas/Statistics/Immigrant-Statistics/MonthlyIVIssuances/MARCH%202020%20-%20IV%20Issuances%20by%20FSC%20and%20Visa%20Class.pdf\n",
      "/content/dam/visas/Statistics/Immigrant-Statistics/MonthlyIVIssuances/APRIL%202020%20-%20IV%20Issuances%20by%20FSC%20and%20Visa%20Class.pdf\n",
      "/content/dam/visas/Statistics/Immigrant-Statistics/MonthlyIVIssuances/MAY%202020%20-%20IV%20Issuances%20by%20FSC%20and%20Visa%20Class.pdf\n",
      "/content/dam/visas/Statistics/Immigrant-Statistics/MonthlyIVIssuances/June%202020%20-%20IV%20Issuances%20by%20FSC%20and%20Visa%20Class.pdf\n",
      "/content/dam/visas/Statistics/Immigrant-Statistics/MonthlyIVIssuances/JULY%202020%20%20-%20IV%20Issuances%20by%20FSC%20and%20Visa%20Class.pdf\n",
      "/content/dam/visas/Statistics/Immigrant-Statistics/MonthlyIVIssuances/AUGUST%202020%20-%20IV%20Issuances%20by%20FSC%20and%20Visa%20Class.pdf\n",
      "/content/dam/visas/Statistics/Immigrant-Statistics/MonthlyIVIssuances/SEPT%202020%20-%20IV%20Issuances%20by%20FSC%20and%20Visa%20Class.pdf\n",
      "/content/dam/visas/Statistics/Immigrant-Statistics/MonthlyIVIssuances/OCTOBER%202020%20-%20IV%20Issuances%20by%20FSC%20and%20Visa%20Class.pdf\n",
      "/content/dam/visas/Statistics/Immigrant-Statistics/MonthlyIVIssuances/NOVEMBER%202020%20-%20IV%20Issuances%20by%20FSC%20and%20Visa%20Class.pdf\n",
      "/content/dam/visas/Statistics/Immigrant-Statistics/MonthlyIVIssuances/DECEMBER%202020%20-%20IV%20Issuances%20by%20FSC%20and%20Visa%20Class.pdf\n",
      "/content/dam/visas/Statistics/Immigrant-Statistics/MonthlyIVIssuances/JANUARY%202021%20-%20IV%20Issuances%20by%20FSC%20and%20Visa%20Class.pdf\n",
      "/content/dam/visas/Statistics/Immigrant-Statistics/MonthlyIVIssuances/FEBRUARY%202021%20-%20IV%20Issuances%20by%20FSC%20and%20Visa%20Class.pdf\n",
      "/content/dam/visas/Statistics/Immigrant-Statistics/MonthlyIVIssuances/MARCH%202021%20-%20IV%20Issuances%20by%20FSC%20or%20Place%20of%20Birth%20and%20Visa%20Class.pdf\n",
      "/content/dam/visas/Statistics/Immigrant-Statistics/MonthlyIVIssuances/APRIL%202021%20-%20IV%20Issuances%20by%20FSC%20or%20Place%20of%20Birth%20and%20Visa%20Class.pdf\n",
      "/content/dam/visas/Statistics/Immigrant-Statistics/MonthlyIVIssuances/MAY2021%20-%20IV%20Issuances%20by%20FSC%20or%20Place%20of%20Birth%20and%20Visa%20Class.pdf\n",
      "/content/dam/visas/Statistics/Immigrant-Statistics/MonthlyIVIssuances/JUNE2021%20-%20IV%20Issuances%20by%20FSC%20or%20Place%20of%20Birth%20and%20Visa%20Class.pdf\n",
      "/content/dam/visas/Statistics/Immigrant-Statistics/MonthlyIVIssuances/JULY2021%20-%20IV%20Issuances%20by%20FSC%20or%20Place%20of%20Birth%20and%20Visa%20Class.pdf\n",
      "/content/dam/visas/Statistics/Immigrant-Statistics/MonthlyIVIssuances/AUGUST2021%20-%20IV%20Issuances%20by%20FSC%20or%20Place%20of%20Birth%20and%20Visa%20Class.pdf\n",
      "/content/dam/visas/Statistics/Immigrant-Statistics/MonthlyIVIssuances/SEPTEMBER2021%20-%20IV%20Issuances%20by%20FSC%20or%20Place%20of%20Birth%20and%20Visa%20Class.pdf\n",
      "/content/dam/visas/Statistics/Immigrant-Statistics/MonthlyIVIssuances/OCTOBER2021%20-%20IV%20Issuances%20by%20FSC%20or%20Place%20of%20Birth%20and%20Visa%20Class.pdf\n",
      "/content/dam/visas/Statistics/Immigrant-Statistics/MonthlyIVIssuances/NOVEMBER2021%20-%20IV%20Issuances%20by%20FSC%20or%20Place%20of%20Birth%20and%20Visa%20Class.pdf\n",
      "/content/dam/visas/Statistics/Immigrant-Statistics/MonthlyIVIssuances/DECEMBER2021%20-%20IV%20Issuances%20by%20FSC%20or%20Place%20of%20Birth%20and%20Visa%20Class.pdf\n",
      "/content/dam/visas/Statistics/Immigrant-Statistics/MonthlyIVIssuances/JANUARY2022%20-%20IV%20Issuances%20by%20FSC%20or%20Place%20of%20Birth%20and%20Visa%20Class.pdf\n",
      "/content/dam/visas/Statistics/Immigrant-Statistics/MonthlyIVIssuances/FEBRUARY%202022%20-%20IV%20Issuances%20by%20FSC%20or%20Place%20of%20Birth%20and%20Visa%20Class.pdf\n",
      "/content/dam/visas/Statistics/Immigrant-Statistics/MonthlyIVIssuances/MARCH%202022%20-%20IV%20Issuances%20by%20FSC%20or%20Place%20of%20Birth%20and%20Visa%20Class.pdf\n",
      "/content/dam/visas/Statistics/Immigrant-Statistics/MonthlyIVIssuances/APRIL%202022%20-%20IV%20Issuances%20by%20FSC%20or%20Place%20of%20Birth%20and%20Visa%20Class.pdf\n",
      "/content/dam/visas/Statistics/Immigrant-Statistics/MonthlyIVIssuances/MAY%202022%20-%20IV%20Issuances%20by%20FSC%20or%20Place%20of%20Birth%20and%20Visa%20Class.pdf\n",
      "/content/dam/visas/Statistics/Immigrant-Statistics/MonthlyIVIssuances/JUNE%202022%20-%20IV%20Issuances%20by%20FSC%20or%20Place%20of%20Birth%20and%20Visa%20Class.pdf\n",
      "/content/dam/visas/Statistics/Immigrant-Statistics/MonthlyIVIssuances/JULY%202022%20-%20IV%20Issuances%20by%20FSC%20or%20Place%20of%20Birth%20and%20Visa%20Class.pdf\n",
      "/content/dam/visas/Statistics/Immigrant-Statistics/MonthlyIVIssuances/AUGUST%202022%20-%20IV%20Issuances%20by%20FSC%20or%20Place%20of%20Birth%20and%20Visa%20Class.pdf\n",
      "/content/dam/visas/Statistics/Immigrant-Statistics/MonthlyIVIssuances/SEPTEMBER%202022%20-%20IV%20Issuances%20by%20FSC%20or%20Place%20of%20Birth%20and%20Visa%20Class.pdf\n",
      "/content/dam/visas/Statistics/Immigrant-Statistics/MonthlyIVIssuances/OCTOBER%202022%20-%20IV%20Issuances%20by%20FSC%20or%20Place%20of%20Birth%20and%20Visa%20Class.pdf\n",
      "/content/dam/visas/Statistics/Immigrant-Statistics/MonthlyIVIssuances/NOVEMBER%202022%20-%20IV%20Issuances%20by%20FSC%20or%20Place%20of%20Birth%20and%20Visa%20Class.pdf\n",
      "/content/dam/visas/Statistics/Immigrant-Statistics/MonthlyIVIssuances/DECEMBER%202022%20-%20IV%20Issuances%20by%20FSC%20or%20Place%20of%20Birth%20and%20Visa%20Class.pdf\n",
      "/content/dam/visas/Statistics/Immigrant-Statistics/MonthlyIVIssuances/JANUARY%202023%20-%20IV%20Issuances%20by%20FSC%20or%20Place%20of%20Birth%20and%20Visa%20Class.pdf\n",
      "/content/dam/visas/Statistics/Immigrant-Statistics/MonthlyIVIssuances/FEBRUARY%202023%20-%20IV%20Issuances%20by%20FSC%20or%20Place%20of%20Birth%20and%20Visa%20Class.pdf\n",
      "/content/dam/visas/Statistics/Immigrant-Statistics/MonthlyIVIssuances/MARCH%202023%20-%20IV%20Issuances%20by%20FSC%20or%20Place%20of%20Birth%20and%20Visa%20Class.pdf\n",
      "/content/dam/visas/Statistics/Immigrant-Statistics/MonthlyIVIssuances/APRIL%202023%20-%20IV%20Issuances%20by%20FSC%20or%20Place%20of%20Birth%20and%20Visa%20Class.pdf\n",
      "/content/dam/visas/Statistics/Immigrant-Statistics/MonthlyIVIssuances/MAY%202023%20-%20IV%20Issuances%20by%20FSC%20or%20Place%20of%20Birth%20and%20Visa%20Class.pdf\n",
      "/content/dam/visas/Statistics/Immigrant-Statistics/MonthlyIVIssuances/JUNE%202023%20-%20IV%20Issuances%20by%20FSC%20or%20Place%20of%20Birth%20and%20Visa%20Class.pdf\n",
      "/content/dam/visas/Statistics/Immigrant-Statistics/MonthlyIVIssuances/JULY%202023%20-%20IV%20Issuances%20by%20FSC%20or%20Place%20of%20Birth%20and%20Visa%20Class.pdf\n",
      "/content/dam/visas/Statistics/Immigrant-Statistics/MonthlyIVIssuances/AUGUST%202023%20-%20IV%20Issuances%20by%20FSC%20or%20Place%20of%20Birth%20and%20Visa%20Class.pdf\n",
      "/content/dam/visas/Statistics/Immigrant-Statistics/MonthlyIVIssuances/SEPTEMBER%202023%20-%20IV%20Issuances%20by%20FSC%20or%20Place%20of%20Birth%20and%20Visa%20Class.pdf\n",
      "/content/dam/visas/Statistics/Immigrant-Statistics/MonthlyIVIssuances/OCTOBER%202023%20-%20IV%20Issuances%20by%20FSC%20or%20Place%20of%20Birth%20and%20Visa%20Class.pdf\n",
      "/content/dam/visas/Statistics/Immigrant-Statistics/MonthlyIVIssuances/NOVEMBER%202023%20-%20IV%20Issuances%20by%20FSC%20or%20Place%20of%20Birth%20and%20Visa%20Class.pdf\n",
      "/content/dam/visas/Statistics/Immigrant-Statistics/MonthlyIVIssuances/DECEMBER%202023%20-%20IV%20Issuances%20by%20FSC%20or%20Place%20of%20Birth%20and%20Visa%20Class.pdf\n",
      "/content/dam/visas/Statistics/Immigrant-Statistics/MonthlyIVIssuances/JANUARY%202024%20-%20IV%20Issuances%20by%20FSC%20or%20Place%20of%20Birth%20and%20Visa%20Class.pdf\n"
     ]
    }
   ],
   "source": [
    "# Fetch the HTML content\n",
    "response = requests.get(base_url)\n",
    "html_content = response.content\n",
    "\n",
    "# Parse the HTML using BeautifulSoup\n",
    "soup = bs(html_content, 'lxml')\n",
    "\n",
    "for link in soup.findAll('a'):\n",
    "    if link.get('href'): #checks for the presence of an href\n",
    "        if 'pdf' in link.get('href') and 'FSC' in link.get('href'):\n",
    "            print(link.get('href'))\n",
    "            "
   ],
   "metadata": {
    "collapsed": false,
    "ExecuteTime": {
     "end_time": "2024-03-07T00:37:22.974567Z",
     "start_time": "2024-03-07T00:37:22.037616Z"
    }
   },
   "id": "2f93ec2e80133e0b",
   "execution_count": 7
  },
  {
   "cell_type": "markdown",
   "source": [
    "You will notice in the printout above that the links are of the following form:\n",
    "\n",
    "/content/dam/visas/Statistics/Immigrant-Statistics/MonthlyIVIssuances/DECEMBER%202023%20-%20IV%20Issuances%20by%20FSC%20or%20Place%20of%20Birth%20and%20Visa%20Class.pdf\n",
    "\n",
    "The actual links are of the form:\n",
    "\n",
    "https://travel.state.gov/content/dam/visas/Statistics/Immigrant-Statistics/MonthlyIVIssuances/March%202017%20-%20IV%20Issuances%20by%20FSC%20and%20Visa%20Class%20-%20Worldwide.pdf \n",
    "\n",
    "This means that we need to prefix \" https://travel.state.gov/ \" to each entry"
   ],
   "metadata": {
    "collapsed": false
   },
   "id": "e7e2bb7d80fc1dc7"
  },
  {
   "cell_type": "code",
   "outputs": [
    {
     "name": "stdout",
     "output_type": "stream",
     "text": [
      "['https://travel.state.gov//content/dam/visas/Statistics/Immigrant-Statistics/MonthlyIVIssuances/March%202017%20-%20IV%20Issuances%20by%20FSC%20and%20Visa%20Class%20-%20Worldwide.pdf', 'https://travel.state.gov//content/dam/visas/Statistics/Immigrant-Statistics/MonthlyIVIssuances/APRIL%202017%20-%20IV%20Issuances%20by%20FSC%20and%20Visa%20Class.pdf', 'https://travel.state.gov//content/dam/visas/Statistics/Immigrant-Statistics/MonthlyIVIssuances/MAY%202017%20-%20IV%20Issuances%20by%20FSC%20and%20Visa%20Class.pdf', 'https://travel.state.gov//content/dam/visas/Statistics/Immigrant-Statistics/MonthlyIVIssuances/JUNE%202017%20-%20IV%20Issuances%20by%20FSC%20and%20Visa%20Class.pdf', 'https://travel.state.gov//content/dam/visas/Statistics/Immigrant-Statistics/MonthlyIVIssuances/JULY%202017%20-%20IV%20Issuances%20by%20FSC%20and%20Visa%20Class.pdf', 'https://travel.state.gov//content/dam/visas/Statistics/Immigrant-Statistics/MonthlyIVIssuances/AUGUST%202017%20-%20IV%20Issuances%20by%20FSC%20and%20Visa%20Class.pdf', 'https://travel.state.gov//content/dam/visas/Statistics/Immigrant-Statistics/MonthlyIVIssuances/SEPTEMBER%202017%20-%20IV%20Issuances%20by%20FSC%20and%20Visa%20Class.pdf', 'https://travel.state.gov//content/dam/visas/Statistics/Immigrant-Statistics/MonthlyIVIssuances/OCTOBER%202017%20-%20IV%20Issuances%20by%20FSC%20and%20Visa%20Class.pdf', 'https://travel.state.gov//content/dam/visas/Statistics/Immigrant-Statistics/MonthlyIVIssuances/NOVEMBER%202017%20-%20IV%20Issuances%20by%20FSC%20and%20Visa%20Class.pdf', 'https://travel.state.gov//content/dam/visas/Statistics/Immigrant-Statistics/MonthlyIVIssuances/DECEMBER%202017%20-%20IV%20Issuances%20by%20FSC%20and%20Visa%20Class.pdf', 'https://travel.state.gov//content/dam/visas/Statistics/Immigrant-Statistics/MonthlyIVIssuances/JANUARY%202018%20-%20IV%20Issuances%20by%20FSC%20and%20Visa%20Class.pdf', 'https://travel.state.gov//content/dam/visas/Statistics/Immigrant-Statistics/MonthlyIVIssuances/FEBRUARY%202018%20-%20IV%20Issuances%20by%20FSC%20and%20Visa%20Class.pdf', 'https://travel.state.gov//content/dam/visas/Statistics/Immigrant-Statistics/MonthlyIVIssuances/MARCH%202018%20-%20IV%20Issuances%20by%20FSC%20and%20Visa%20Class.pdf', 'https://travel.state.gov//content/dam/visas/Statistics/Immigrant-Statistics/MonthlyIVIssuances/APRIL%202018%20-%20IV%20Issuances%20by%20FSC%20and%20Visa%20Class.pdf', 'https://travel.state.gov//content/dam/visas/Statistics/Immigrant-Statistics/MonthlyIVIssuances/MAY%202018%20-%20IV%20Issuances%20by%20FSC%20and%20Visa%20Class.pdf', 'https://travel.state.gov//content/dam/visas/Statistics/Immigrant-Statistics/MonthlyIVIssuances/June%202018%20-%20IV%20Issuances%20by%20FSC%20and%20Visa%20Class.pdf', 'https://travel.state.gov//content/dam/visas/Statistics/Immigrant-Statistics/MonthlyIVIssuances/JULY%202018%20-%20IV%20Issuances%20by%20FSC%20and%20Visa%20Class.pdf', 'https://travel.state.gov//content/dam/visas/Statistics/Immigrant-Statistics/MonthlyIVIssuances/AUGUST%202018%20-%20IV%20Issuances%20by%20FSC%20and%20Visa%20Class.pdf', 'https://travel.state.gov//content/dam/visas/Statistics/Immigrant-Statistics/MonthlyIVIssuances/SEPTEMBER%202018%20-%20IV%20Issuances%20by%20FSC%20and%20Visa%20Class.pdf', 'https://travel.state.gov//content/dam/visas/Statistics/Immigrant-Statistics/MonthlyIVIssuances/October%202018%20-%20IV%20Issuances%20by%20FSC%20and%20Visa%20Class.pdf', 'https://travel.state.gov//content/dam/visas/Statistics/Immigrant-Statistics/MonthlyIVIssuances/November%202018%20-%20IV%20Issuances%20by%20FSC%20and%20Visa%20Class.pdf', 'https://travel.state.gov//content/dam/visas/Statistics/Immigrant-Statistics/MonthlyIVIssuances/DECEMBER%202018%20-%20IV%20Issuances%20by%20FSC%20and%20Visa%20Class.pdf', 'https://travel.state.gov//content/dam/visas/Statistics/Immigrant-Statistics/MonthlyIVIssuances/JANUARY%202019%20-%20IV%20Issuances%20by%20FSC%20and%20Visa%20Class.pdf', 'https://travel.state.gov//content/dam/visas/Statistics/Immigrant-Statistics/MonthlyIVIssuances/FEBRUARY%202019%20-%20IV%20Issuances%20by%20FSC%20and%20Visa%20Class.pdf', 'https://travel.state.gov//content/dam/visas/Statistics/Immigrant-Statistics/MonthlyIVIssuances/MARCH%202019%20-%20IV%20Issuances%20by%20FSC%20and%20Visa%20Class.pdf', 'https://travel.state.gov//content/dam/visas/Statistics/Immigrant-Statistics/MonthlyIVIssuances/APRIL%202019%20-%20IV%20Issuances%20by%20FSC%20and%20Visa%20Class.pdf', 'https://travel.state.gov//content/dam/visas/Statistics/Immigrant-Statistics/MonthlyIVIssuances/MAY%202019%20-%20IV%20Issuances%20by%20FSC%20and%20Visa%20Class.pdf', 'https://travel.state.gov//content/dam/visas/Statistics/Immigrant-Statistics/MonthlyIVIssuances/JUNE%202019%20-%20IV%20Issuances%20by%20FSC%20and%20Visa%20Class.pdf', 'https://travel.state.gov//content/dam/visas/Statistics/Immigrant-Statistics/MonthlyIVIssuances/JULY%202019%20-%20IV%20Issuances%20by%20FSC%20and%20Visa%20Class.pdf', 'https://travel.state.gov//content/dam/visas/Statistics/Immigrant-Statistics/MonthlyIVIssuances/AUGUST%202019%20-%20IV%20Issuances%20by%20FSC%20and%20Visa%20Class.pdf', 'https://travel.state.gov//content/dam/visas/Statistics/Immigrant-Statistics/MonthlyIVIssuances/SEPTEMBER%202019%20-%20IV%20Issuances%20by%20FSC%20and%20Visa%20Class.pdf', 'https://travel.state.gov//content/dam/visas/Statistics/Immigrant-Statistics/MonthlyIVIssuances/OCTOBER%202019%20IV%20Issuances%20by%20FSC%20and%20Visa%20Class.pdf', 'https://travel.state.gov//content/dam/visas/Statistics/Immigrant-Statistics/MonthlyIVIssuances/NOVEMBER%202019%20-%20IV%20Issuances%20by%20FSC%20and%20Visa%20Class.pdf', 'https://travel.state.gov//content/dam/visas/Statistics/Immigrant-Statistics/MonthlyIVIssuances/DECEMBER%202019%20-%20IV%20Issuances%20by%20FSC%20and%20Visa%20Class.pdf', 'https://travel.state.gov//content/dam/visas/Statistics/Immigrant-Statistics/MonthlyIVIssuances/JANUARY%202020%20-%20IV%20Issuances%20by%20FSC%20and%20Visa%20Class.pdf', 'https://travel.state.gov//content/dam/visas/Statistics/Immigrant-Statistics/MonthlyIVIssuances/FEBRUARY%202020%20-%20IV%20Issuances%20by%20FSC%20and%20Visa%20Class.pdf', 'https://travel.state.gov//content/dam/visas/Statistics/Immigrant-Statistics/MonthlyIVIssuances/MARCH%202020%20-%20IV%20Issuances%20by%20FSC%20and%20Visa%20Class.pdf', 'https://travel.state.gov//content/dam/visas/Statistics/Immigrant-Statistics/MonthlyIVIssuances/APRIL%202020%20-%20IV%20Issuances%20by%20FSC%20and%20Visa%20Class.pdf', 'https://travel.state.gov//content/dam/visas/Statistics/Immigrant-Statistics/MonthlyIVIssuances/MAY%202020%20-%20IV%20Issuances%20by%20FSC%20and%20Visa%20Class.pdf', 'https://travel.state.gov//content/dam/visas/Statistics/Immigrant-Statistics/MonthlyIVIssuances/June%202020%20-%20IV%20Issuances%20by%20FSC%20and%20Visa%20Class.pdf', 'https://travel.state.gov//content/dam/visas/Statistics/Immigrant-Statistics/MonthlyIVIssuances/JULY%202020%20%20-%20IV%20Issuances%20by%20FSC%20and%20Visa%20Class.pdf', 'https://travel.state.gov//content/dam/visas/Statistics/Immigrant-Statistics/MonthlyIVIssuances/AUGUST%202020%20-%20IV%20Issuances%20by%20FSC%20and%20Visa%20Class.pdf', 'https://travel.state.gov//content/dam/visas/Statistics/Immigrant-Statistics/MonthlyIVIssuances/SEPT%202020%20-%20IV%20Issuances%20by%20FSC%20and%20Visa%20Class.pdf', 'https://travel.state.gov//content/dam/visas/Statistics/Immigrant-Statistics/MonthlyIVIssuances/OCTOBER%202020%20-%20IV%20Issuances%20by%20FSC%20and%20Visa%20Class.pdf', 'https://travel.state.gov//content/dam/visas/Statistics/Immigrant-Statistics/MonthlyIVIssuances/NOVEMBER%202020%20-%20IV%20Issuances%20by%20FSC%20and%20Visa%20Class.pdf', 'https://travel.state.gov//content/dam/visas/Statistics/Immigrant-Statistics/MonthlyIVIssuances/DECEMBER%202020%20-%20IV%20Issuances%20by%20FSC%20and%20Visa%20Class.pdf', 'https://travel.state.gov//content/dam/visas/Statistics/Immigrant-Statistics/MonthlyIVIssuances/JANUARY%202021%20-%20IV%20Issuances%20by%20FSC%20and%20Visa%20Class.pdf', 'https://travel.state.gov//content/dam/visas/Statistics/Immigrant-Statistics/MonthlyIVIssuances/FEBRUARY%202021%20-%20IV%20Issuances%20by%20FSC%20and%20Visa%20Class.pdf', 'https://travel.state.gov//content/dam/visas/Statistics/Immigrant-Statistics/MonthlyIVIssuances/MARCH%202021%20-%20IV%20Issuances%20by%20FSC%20or%20Place%20of%20Birth%20and%20Visa%20Class.pdf', 'https://travel.state.gov//content/dam/visas/Statistics/Immigrant-Statistics/MonthlyIVIssuances/APRIL%202021%20-%20IV%20Issuances%20by%20FSC%20or%20Place%20of%20Birth%20and%20Visa%20Class.pdf', 'https://travel.state.gov//content/dam/visas/Statistics/Immigrant-Statistics/MonthlyIVIssuances/MAY2021%20-%20IV%20Issuances%20by%20FSC%20or%20Place%20of%20Birth%20and%20Visa%20Class.pdf', 'https://travel.state.gov//content/dam/visas/Statistics/Immigrant-Statistics/MonthlyIVIssuances/JUNE2021%20-%20IV%20Issuances%20by%20FSC%20or%20Place%20of%20Birth%20and%20Visa%20Class.pdf', 'https://travel.state.gov//content/dam/visas/Statistics/Immigrant-Statistics/MonthlyIVIssuances/JULY2021%20-%20IV%20Issuances%20by%20FSC%20or%20Place%20of%20Birth%20and%20Visa%20Class.pdf', 'https://travel.state.gov//content/dam/visas/Statistics/Immigrant-Statistics/MonthlyIVIssuances/AUGUST2021%20-%20IV%20Issuances%20by%20FSC%20or%20Place%20of%20Birth%20and%20Visa%20Class.pdf', 'https://travel.state.gov//content/dam/visas/Statistics/Immigrant-Statistics/MonthlyIVIssuances/SEPTEMBER2021%20-%20IV%20Issuances%20by%20FSC%20or%20Place%20of%20Birth%20and%20Visa%20Class.pdf', 'https://travel.state.gov//content/dam/visas/Statistics/Immigrant-Statistics/MonthlyIVIssuances/OCTOBER2021%20-%20IV%20Issuances%20by%20FSC%20or%20Place%20of%20Birth%20and%20Visa%20Class.pdf', 'https://travel.state.gov//content/dam/visas/Statistics/Immigrant-Statistics/MonthlyIVIssuances/NOVEMBER2021%20-%20IV%20Issuances%20by%20FSC%20or%20Place%20of%20Birth%20and%20Visa%20Class.pdf', 'https://travel.state.gov//content/dam/visas/Statistics/Immigrant-Statistics/MonthlyIVIssuances/DECEMBER2021%20-%20IV%20Issuances%20by%20FSC%20or%20Place%20of%20Birth%20and%20Visa%20Class.pdf', 'https://travel.state.gov//content/dam/visas/Statistics/Immigrant-Statistics/MonthlyIVIssuances/JANUARY2022%20-%20IV%20Issuances%20by%20FSC%20or%20Place%20of%20Birth%20and%20Visa%20Class.pdf', 'https://travel.state.gov//content/dam/visas/Statistics/Immigrant-Statistics/MonthlyIVIssuances/FEBRUARY%202022%20-%20IV%20Issuances%20by%20FSC%20or%20Place%20of%20Birth%20and%20Visa%20Class.pdf', 'https://travel.state.gov//content/dam/visas/Statistics/Immigrant-Statistics/MonthlyIVIssuances/MARCH%202022%20-%20IV%20Issuances%20by%20FSC%20or%20Place%20of%20Birth%20and%20Visa%20Class.pdf', 'https://travel.state.gov//content/dam/visas/Statistics/Immigrant-Statistics/MonthlyIVIssuances/APRIL%202022%20-%20IV%20Issuances%20by%20FSC%20or%20Place%20of%20Birth%20and%20Visa%20Class.pdf', 'https://travel.state.gov//content/dam/visas/Statistics/Immigrant-Statistics/MonthlyIVIssuances/MAY%202022%20-%20IV%20Issuances%20by%20FSC%20or%20Place%20of%20Birth%20and%20Visa%20Class.pdf', 'https://travel.state.gov//content/dam/visas/Statistics/Immigrant-Statistics/MonthlyIVIssuances/JUNE%202022%20-%20IV%20Issuances%20by%20FSC%20or%20Place%20of%20Birth%20and%20Visa%20Class.pdf', 'https://travel.state.gov//content/dam/visas/Statistics/Immigrant-Statistics/MonthlyIVIssuances/JULY%202022%20-%20IV%20Issuances%20by%20FSC%20or%20Place%20of%20Birth%20and%20Visa%20Class.pdf', 'https://travel.state.gov//content/dam/visas/Statistics/Immigrant-Statistics/MonthlyIVIssuances/AUGUST%202022%20-%20IV%20Issuances%20by%20FSC%20or%20Place%20of%20Birth%20and%20Visa%20Class.pdf', 'https://travel.state.gov//content/dam/visas/Statistics/Immigrant-Statistics/MonthlyIVIssuances/SEPTEMBER%202022%20-%20IV%20Issuances%20by%20FSC%20or%20Place%20of%20Birth%20and%20Visa%20Class.pdf', 'https://travel.state.gov//content/dam/visas/Statistics/Immigrant-Statistics/MonthlyIVIssuances/OCTOBER%202022%20-%20IV%20Issuances%20by%20FSC%20or%20Place%20of%20Birth%20and%20Visa%20Class.pdf', 'https://travel.state.gov//content/dam/visas/Statistics/Immigrant-Statistics/MonthlyIVIssuances/NOVEMBER%202022%20-%20IV%20Issuances%20by%20FSC%20or%20Place%20of%20Birth%20and%20Visa%20Class.pdf', 'https://travel.state.gov//content/dam/visas/Statistics/Immigrant-Statistics/MonthlyIVIssuances/DECEMBER%202022%20-%20IV%20Issuances%20by%20FSC%20or%20Place%20of%20Birth%20and%20Visa%20Class.pdf', 'https://travel.state.gov//content/dam/visas/Statistics/Immigrant-Statistics/MonthlyIVIssuances/JANUARY%202023%20-%20IV%20Issuances%20by%20FSC%20or%20Place%20of%20Birth%20and%20Visa%20Class.pdf', 'https://travel.state.gov//content/dam/visas/Statistics/Immigrant-Statistics/MonthlyIVIssuances/FEBRUARY%202023%20-%20IV%20Issuances%20by%20FSC%20or%20Place%20of%20Birth%20and%20Visa%20Class.pdf', 'https://travel.state.gov//content/dam/visas/Statistics/Immigrant-Statistics/MonthlyIVIssuances/MARCH%202023%20-%20IV%20Issuances%20by%20FSC%20or%20Place%20of%20Birth%20and%20Visa%20Class.pdf', 'https://travel.state.gov//content/dam/visas/Statistics/Immigrant-Statistics/MonthlyIVIssuances/APRIL%202023%20-%20IV%20Issuances%20by%20FSC%20or%20Place%20of%20Birth%20and%20Visa%20Class.pdf', 'https://travel.state.gov//content/dam/visas/Statistics/Immigrant-Statistics/MonthlyIVIssuances/MAY%202023%20-%20IV%20Issuances%20by%20FSC%20or%20Place%20of%20Birth%20and%20Visa%20Class.pdf', 'https://travel.state.gov//content/dam/visas/Statistics/Immigrant-Statistics/MonthlyIVIssuances/JUNE%202023%20-%20IV%20Issuances%20by%20FSC%20or%20Place%20of%20Birth%20and%20Visa%20Class.pdf', 'https://travel.state.gov//content/dam/visas/Statistics/Immigrant-Statistics/MonthlyIVIssuances/JULY%202023%20-%20IV%20Issuances%20by%20FSC%20or%20Place%20of%20Birth%20and%20Visa%20Class.pdf', 'https://travel.state.gov//content/dam/visas/Statistics/Immigrant-Statistics/MonthlyIVIssuances/AUGUST%202023%20-%20IV%20Issuances%20by%20FSC%20or%20Place%20of%20Birth%20and%20Visa%20Class.pdf', 'https://travel.state.gov//content/dam/visas/Statistics/Immigrant-Statistics/MonthlyIVIssuances/SEPTEMBER%202023%20-%20IV%20Issuances%20by%20FSC%20or%20Place%20of%20Birth%20and%20Visa%20Class.pdf', 'https://travel.state.gov//content/dam/visas/Statistics/Immigrant-Statistics/MonthlyIVIssuances/OCTOBER%202023%20-%20IV%20Issuances%20by%20FSC%20or%20Place%20of%20Birth%20and%20Visa%20Class.pdf', 'https://travel.state.gov//content/dam/visas/Statistics/Immigrant-Statistics/MonthlyIVIssuances/NOVEMBER%202023%20-%20IV%20Issuances%20by%20FSC%20or%20Place%20of%20Birth%20and%20Visa%20Class.pdf', 'https://travel.state.gov//content/dam/visas/Statistics/Immigrant-Statistics/MonthlyIVIssuances/DECEMBER%202023%20-%20IV%20Issuances%20by%20FSC%20or%20Place%20of%20Birth%20and%20Visa%20Class.pdf', 'https://travel.state.gov//content/dam/visas/Statistics/Immigrant-Statistics/MonthlyIVIssuances/JANUARY%202024%20-%20IV%20Issuances%20by%20FSC%20or%20Place%20of%20Birth%20and%20Visa%20Class.pdf']\n"
     ]
    }
   ],
   "source": [
    "target_links = [] # initialize empty list to take in URLs from page\n",
    "link_prefix = 'https://travel.state.gov/'\n",
    "for link in soup.findAll('a'):\n",
    "    if link.get('href'): #checks for the presence of an href\n",
    "        if 'pdf' in link.get('href') and 'FSC' in link.get('href'):\n",
    "                target_links.append(f\"{link_prefix}{link.get('href')}\")\n",
    "print(target_links)"
   ],
   "metadata": {
    "collapsed": false,
    "ExecuteTime": {
     "end_time": "2024-03-06T01:22:19.772288Z",
     "start_time": "2024-03-06T01:22:19.767200Z"
    }
   },
   "id": "4d6709b50bf80e57",
   "execution_count": 4
  },
  {
   "cell_type": "markdown",
   "source": [
    "Next we want to:\n",
    "- loop through this list of links\n",
    "- put in a time delay between each link\n",
    "- download the file into a folder\n",
    "- add the list of target files into a json file so that we can record what files have already been downloaded\n",
    "- "
   ],
   "metadata": {
    "collapsed": false
   },
   "id": "f3abb8ad56f154d5"
  },
  {
   "cell_type": "markdown",
   "source": [
    "first we save the list of files into a json file. \n",
    "For our purposes, a CSV file would work better as the list of links isn't nested."
   ],
   "metadata": {
    "collapsed": false
   },
   "id": "1f98823650eabb8b"
  },
  {
   "cell_type": "code",
   "outputs": [
    {
     "name": "stdout",
     "output_type": "stream",
     "text": [
      "Target links have been saved to target_links.json\n"
     ]
    }
   ],
   "source": [
    "filename = 'target_links.json'\n",
    "\n",
    "# Write the target_links list to a JSON file\n",
    "with open(filename, 'w') as f:\n",
    "    json.dump(target_links, f)\n",
    "\n",
    "print(f\"Target links have been saved to {filename}\")"
   ],
   "metadata": {
    "collapsed": false,
    "ExecuteTime": {
     "end_time": "2024-03-06T01:24:44.500226Z",
     "start_time": "2024-03-06T01:24:44.494359Z"
    }
   },
   "id": "2e444ce22e35879f",
   "execution_count": 5
  },
  {
   "cell_type": "markdown",
   "source": [
    "Or we could save the links to a csv file, or better yet, a tsv (tab separated file).\n",
    "This is because issues come up often with commas in files"
   ],
   "metadata": {
    "collapsed": false
   },
   "id": "4c8bfeb757740279"
  },
  {
   "cell_type": "code",
   "outputs": [
    {
     "name": "stdout",
     "output_type": "stream",
     "text": [
      "Target links have been saved to target_links.tsv\n"
     ]
    }
   ],
   "source": [
    "filename = 'target_links.tsv'\n",
    "\n",
    "# Write the target_links list to a TSV file using the \\t delimiter\n",
    "with open(filename, 'w') as f:\n",
    "    for link in target_links:\n",
    "        f.write(f\"{link}\\t\\n\")\n",
    "\n",
    "print(f\"Target links have been saved to {filename}\")"
   ],
   "metadata": {
    "collapsed": false,
    "ExecuteTime": {
     "end_time": "2024-03-06T01:24:51.366492Z",
     "start_time": "2024-03-06T01:24:51.362699Z"
    }
   },
   "id": "49de403bb9db685e",
   "execution_count": 6
  },
  {
   "cell_type": "markdown",
   "source": [
    "The next step is to set up the folder for downloading the files. \n",
    "\n",
    "If the folder does not exist: \n",
    "- we can create the folder and then\n",
    "- download all the files in the target_links.tsv file."
   ],
   "metadata": {
    "collapsed": false
   },
   "id": "b18481ac66c5902c"
  },
  {
   "cell_type": "code",
   "outputs": [],
   "source": [
    "folder_path = 'pdf_monthly_immigrant_visa_class_country'\n",
    "if not os.path.exists(folder_path):\n",
    "    os.makedirs(folder_path)\n",
    "\n",
    "\n"
   ],
   "metadata": {
    "collapsed": false,
    "ExecuteTime": {
     "end_time": "2024-03-07T00:39:25.632403Z",
     "start_time": "2024-03-07T00:39:25.628759Z"
    }
   },
   "id": "b105f1e6b400fdf8",
   "execution_count": 8
  },
  {
   "cell_type": "markdown",
   "source": [
    "If the folder does exist, assuming that this notebook has been run before:\n",
    "- we can create a new file with all the links and then check against target_links.tsv\n",
    "- - Let's call this completed_target_links.tsv\n",
    "- if the link exists in target_links.cst, we can skip downloading the file\n",
    "- if the link doesn't exist in target_links.tsv, we can download the file\n",
    "\n",
    "At the end we can overwrite the target_links.tsv file entries into the completed_target_links.tsv file.\n",
    "This assumes that we have downloaded each file into the folder with no errors.\n"
   ],
   "metadata": {
    "collapsed": false
   },
   "id": "8466fa22aa6f1f92"
  },
  {
   "cell_type": "code",
   "outputs": [
    {
     "name": "stdout",
     "output_type": "stream",
     "text": [
      "The file 'completed_target_links.tsv' exists in the current directory.\n",
      "List of links from the TSV file:\n",
      "['https://travel.state.gov//content/dam/visas/Statistics/Immigrant-Statistics/MonthlyIVIssuances/March%202017%20-%20IV%20Issuances%20by%20FSC%20and%20Visa%20Class%20-%20Worldwide.pdf', 'https://travel.state.gov//content/dam/visas/Statistics/Immigrant-Statistics/MonthlyIVIssuances/APRIL%202017%20-%20IV%20Issuances%20by%20FSC%20and%20Visa%20Class.pdf', 'https://travel.state.gov//content/dam/visas/Statistics/Immigrant-Statistics/MonthlyIVIssuances/MAY%202017%20-%20IV%20Issuances%20by%20FSC%20and%20Visa%20Class.pdf', 'https://travel.state.gov//content/dam/visas/Statistics/Immigrant-Statistics/MonthlyIVIssuances/JUNE%202017%20-%20IV%20Issuances%20by%20FSC%20and%20Visa%20Class.pdf', 'https://travel.state.gov//content/dam/visas/Statistics/Immigrant-Statistics/MonthlyIVIssuances/JULY%202017%20-%20IV%20Issuances%20by%20FSC%20and%20Visa%20Class.pdf', 'https://travel.state.gov//content/dam/visas/Statistics/Immigrant-Statistics/MonthlyIVIssuances/AUGUST%202017%20-%20IV%20Issuances%20by%20FSC%20and%20Visa%20Class.pdf', 'https://travel.state.gov//content/dam/visas/Statistics/Immigrant-Statistics/MonthlyIVIssuances/SEPTEMBER%202017%20-%20IV%20Issuances%20by%20FSC%20and%20Visa%20Class.pdf', 'https://travel.state.gov//content/dam/visas/Statistics/Immigrant-Statistics/MonthlyIVIssuances/OCTOBER%202017%20-%20IV%20Issuances%20by%20FSC%20and%20Visa%20Class.pdf', 'https://travel.state.gov//content/dam/visas/Statistics/Immigrant-Statistics/MonthlyIVIssuances/NOVEMBER%202017%20-%20IV%20Issuances%20by%20FSC%20and%20Visa%20Class.pdf', 'https://travel.state.gov//content/dam/visas/Statistics/Immigrant-Statistics/MonthlyIVIssuances/DECEMBER%202017%20-%20IV%20Issuances%20by%20FSC%20and%20Visa%20Class.pdf', 'https://travel.state.gov//content/dam/visas/Statistics/Immigrant-Statistics/MonthlyIVIssuances/JANUARY%202018%20-%20IV%20Issuances%20by%20FSC%20and%20Visa%20Class.pdf', 'https://travel.state.gov//content/dam/visas/Statistics/Immigrant-Statistics/MonthlyIVIssuances/FEBRUARY%202018%20-%20IV%20Issuances%20by%20FSC%20and%20Visa%20Class.pdf', 'https://travel.state.gov//content/dam/visas/Statistics/Immigrant-Statistics/MonthlyIVIssuances/MARCH%202018%20-%20IV%20Issuances%20by%20FSC%20and%20Visa%20Class.pdf', 'https://travel.state.gov//content/dam/visas/Statistics/Immigrant-Statistics/MonthlyIVIssuances/APRIL%202018%20-%20IV%20Issuances%20by%20FSC%20and%20Visa%20Class.pdf', 'https://travel.state.gov//content/dam/visas/Statistics/Immigrant-Statistics/MonthlyIVIssuances/MAY%202018%20-%20IV%20Issuances%20by%20FSC%20and%20Visa%20Class.pdf', 'https://travel.state.gov//content/dam/visas/Statistics/Immigrant-Statistics/MonthlyIVIssuances/June%202018%20-%20IV%20Issuances%20by%20FSC%20and%20Visa%20Class.pdf', 'https://travel.state.gov//content/dam/visas/Statistics/Immigrant-Statistics/MonthlyIVIssuances/JULY%202018%20-%20IV%20Issuances%20by%20FSC%20and%20Visa%20Class.pdf', 'https://travel.state.gov//content/dam/visas/Statistics/Immigrant-Statistics/MonthlyIVIssuances/AUGUST%202018%20-%20IV%20Issuances%20by%20FSC%20and%20Visa%20Class.pdf', 'https://travel.state.gov//content/dam/visas/Statistics/Immigrant-Statistics/MonthlyIVIssuances/SEPTEMBER%202018%20-%20IV%20Issuances%20by%20FSC%20and%20Visa%20Class.pdf', 'https://travel.state.gov//content/dam/visas/Statistics/Immigrant-Statistics/MonthlyIVIssuances/October%202018%20-%20IV%20Issuances%20by%20FSC%20and%20Visa%20Class.pdf', 'https://travel.state.gov//content/dam/visas/Statistics/Immigrant-Statistics/MonthlyIVIssuances/November%202018%20-%20IV%20Issuances%20by%20FSC%20and%20Visa%20Class.pdf', 'https://travel.state.gov//content/dam/visas/Statistics/Immigrant-Statistics/MonthlyIVIssuances/DECEMBER%202018%20-%20IV%20Issuances%20by%20FSC%20and%20Visa%20Class.pdf', 'https://travel.state.gov//content/dam/visas/Statistics/Immigrant-Statistics/MonthlyIVIssuances/JANUARY%202019%20-%20IV%20Issuances%20by%20FSC%20and%20Visa%20Class.pdf', 'https://travel.state.gov//content/dam/visas/Statistics/Immigrant-Statistics/MonthlyIVIssuances/FEBRUARY%202019%20-%20IV%20Issuances%20by%20FSC%20and%20Visa%20Class.pdf', 'https://travel.state.gov//content/dam/visas/Statistics/Immigrant-Statistics/MonthlyIVIssuances/MARCH%202019%20-%20IV%20Issuances%20by%20FSC%20and%20Visa%20Class.pdf', 'https://travel.state.gov//content/dam/visas/Statistics/Immigrant-Statistics/MonthlyIVIssuances/APRIL%202019%20-%20IV%20Issuances%20by%20FSC%20and%20Visa%20Class.pdf', 'https://travel.state.gov//content/dam/visas/Statistics/Immigrant-Statistics/MonthlyIVIssuances/MAY%202019%20-%20IV%20Issuances%20by%20FSC%20and%20Visa%20Class.pdf', 'https://travel.state.gov//content/dam/visas/Statistics/Immigrant-Statistics/MonthlyIVIssuances/JUNE%202019%20-%20IV%20Issuances%20by%20FSC%20and%20Visa%20Class.pdf', 'https://travel.state.gov//content/dam/visas/Statistics/Immigrant-Statistics/MonthlyIVIssuances/JULY%202019%20-%20IV%20Issuances%20by%20FSC%20and%20Visa%20Class.pdf', 'https://travel.state.gov//content/dam/visas/Statistics/Immigrant-Statistics/MonthlyIVIssuances/AUGUST%202019%20-%20IV%20Issuances%20by%20FSC%20and%20Visa%20Class.pdf', 'https://travel.state.gov//content/dam/visas/Statistics/Immigrant-Statistics/MonthlyIVIssuances/SEPTEMBER%202019%20-%20IV%20Issuances%20by%20FSC%20and%20Visa%20Class.pdf', 'https://travel.state.gov//content/dam/visas/Statistics/Immigrant-Statistics/MonthlyIVIssuances/OCTOBER%202019%20IV%20Issuances%20by%20FSC%20and%20Visa%20Class.pdf', 'https://travel.state.gov//content/dam/visas/Statistics/Immigrant-Statistics/MonthlyIVIssuances/NOVEMBER%202019%20-%20IV%20Issuances%20by%20FSC%20and%20Visa%20Class.pdf', 'https://travel.state.gov//content/dam/visas/Statistics/Immigrant-Statistics/MonthlyIVIssuances/DECEMBER%202019%20-%20IV%20Issuances%20by%20FSC%20and%20Visa%20Class.pdf', 'https://travel.state.gov//content/dam/visas/Statistics/Immigrant-Statistics/MonthlyIVIssuances/JANUARY%202020%20-%20IV%20Issuances%20by%20FSC%20and%20Visa%20Class.pdf', 'https://travel.state.gov//content/dam/visas/Statistics/Immigrant-Statistics/MonthlyIVIssuances/FEBRUARY%202020%20-%20IV%20Issuances%20by%20FSC%20and%20Visa%20Class.pdf', 'https://travel.state.gov//content/dam/visas/Statistics/Immigrant-Statistics/MonthlyIVIssuances/MARCH%202020%20-%20IV%20Issuances%20by%20FSC%20and%20Visa%20Class.pdf', 'https://travel.state.gov//content/dam/visas/Statistics/Immigrant-Statistics/MonthlyIVIssuances/APRIL%202020%20-%20IV%20Issuances%20by%20FSC%20and%20Visa%20Class.pdf', 'https://travel.state.gov//content/dam/visas/Statistics/Immigrant-Statistics/MonthlyIVIssuances/MAY%202020%20-%20IV%20Issuances%20by%20FSC%20and%20Visa%20Class.pdf', 'https://travel.state.gov//content/dam/visas/Statistics/Immigrant-Statistics/MonthlyIVIssuances/June%202020%20-%20IV%20Issuances%20by%20FSC%20and%20Visa%20Class.pdf', 'https://travel.state.gov//content/dam/visas/Statistics/Immigrant-Statistics/MonthlyIVIssuances/JULY%202020%20%20-%20IV%20Issuances%20by%20FSC%20and%20Visa%20Class.pdf', 'https://travel.state.gov//content/dam/visas/Statistics/Immigrant-Statistics/MonthlyIVIssuances/AUGUST%202020%20-%20IV%20Issuances%20by%20FSC%20and%20Visa%20Class.pdf', 'https://travel.state.gov//content/dam/visas/Statistics/Immigrant-Statistics/MonthlyIVIssuances/SEPT%202020%20-%20IV%20Issuances%20by%20FSC%20and%20Visa%20Class.pdf', 'https://travel.state.gov//content/dam/visas/Statistics/Immigrant-Statistics/MonthlyIVIssuances/OCTOBER%202020%20-%20IV%20Issuances%20by%20FSC%20and%20Visa%20Class.pdf', 'https://travel.state.gov//content/dam/visas/Statistics/Immigrant-Statistics/MonthlyIVIssuances/NOVEMBER%202020%20-%20IV%20Issuances%20by%20FSC%20and%20Visa%20Class.pdf', 'https://travel.state.gov//content/dam/visas/Statistics/Immigrant-Statistics/MonthlyIVIssuances/DECEMBER%202020%20-%20IV%20Issuances%20by%20FSC%20and%20Visa%20Class.pdf', 'https://travel.state.gov//content/dam/visas/Statistics/Immigrant-Statistics/MonthlyIVIssuances/JANUARY%202021%20-%20IV%20Issuances%20by%20FSC%20and%20Visa%20Class.pdf', 'https://travel.state.gov//content/dam/visas/Statistics/Immigrant-Statistics/MonthlyIVIssuances/FEBRUARY%202021%20-%20IV%20Issuances%20by%20FSC%20and%20Visa%20Class.pdf', 'https://travel.state.gov//content/dam/visas/Statistics/Immigrant-Statistics/MonthlyIVIssuances/MARCH%202021%20-%20IV%20Issuances%20by%20FSC%20or%20Place%20of%20Birth%20and%20Visa%20Class.pdf', 'https://travel.state.gov//content/dam/visas/Statistics/Immigrant-Statistics/MonthlyIVIssuances/APRIL%202021%20-%20IV%20Issuances%20by%20FSC%20or%20Place%20of%20Birth%20and%20Visa%20Class.pdf', 'https://travel.state.gov//content/dam/visas/Statistics/Immigrant-Statistics/MonthlyIVIssuances/MAY2021%20-%20IV%20Issuances%20by%20FSC%20or%20Place%20of%20Birth%20and%20Visa%20Class.pdf', 'https://travel.state.gov//content/dam/visas/Statistics/Immigrant-Statistics/MonthlyIVIssuances/JUNE2021%20-%20IV%20Issuances%20by%20FSC%20or%20Place%20of%20Birth%20and%20Visa%20Class.pdf', 'https://travel.state.gov//content/dam/visas/Statistics/Immigrant-Statistics/MonthlyIVIssuances/JULY2021%20-%20IV%20Issuances%20by%20FSC%20or%20Place%20of%20Birth%20and%20Visa%20Class.pdf', 'https://travel.state.gov//content/dam/visas/Statistics/Immigrant-Statistics/MonthlyIVIssuances/AUGUST2021%20-%20IV%20Issuances%20by%20FSC%20or%20Place%20of%20Birth%20and%20Visa%20Class.pdf', 'https://travel.state.gov//content/dam/visas/Statistics/Immigrant-Statistics/MonthlyIVIssuances/SEPTEMBER2021%20-%20IV%20Issuances%20by%20FSC%20or%20Place%20of%20Birth%20and%20Visa%20Class.pdf', 'https://travel.state.gov//content/dam/visas/Statistics/Immigrant-Statistics/MonthlyIVIssuances/OCTOBER2021%20-%20IV%20Issuances%20by%20FSC%20or%20Place%20of%20Birth%20and%20Visa%20Class.pdf', 'https://travel.state.gov//content/dam/visas/Statistics/Immigrant-Statistics/MonthlyIVIssuances/NOVEMBER2021%20-%20IV%20Issuances%20by%20FSC%20or%20Place%20of%20Birth%20and%20Visa%20Class.pdf', 'https://travel.state.gov//content/dam/visas/Statistics/Immigrant-Statistics/MonthlyIVIssuances/DECEMBER2021%20-%20IV%20Issuances%20by%20FSC%20or%20Place%20of%20Birth%20and%20Visa%20Class.pdf', 'https://travel.state.gov//content/dam/visas/Statistics/Immigrant-Statistics/MonthlyIVIssuances/JANUARY2022%20-%20IV%20Issuances%20by%20FSC%20or%20Place%20of%20Birth%20and%20Visa%20Class.pdf', 'https://travel.state.gov//content/dam/visas/Statistics/Immigrant-Statistics/MonthlyIVIssuances/FEBRUARY%202022%20-%20IV%20Issuances%20by%20FSC%20or%20Place%20of%20Birth%20and%20Visa%20Class.pdf', 'https://travel.state.gov//content/dam/visas/Statistics/Immigrant-Statistics/MonthlyIVIssuances/MARCH%202022%20-%20IV%20Issuances%20by%20FSC%20or%20Place%20of%20Birth%20and%20Visa%20Class.pdf', 'https://travel.state.gov//content/dam/visas/Statistics/Immigrant-Statistics/MonthlyIVIssuances/APRIL%202022%20-%20IV%20Issuances%20by%20FSC%20or%20Place%20of%20Birth%20and%20Visa%20Class.pdf', 'https://travel.state.gov//content/dam/visas/Statistics/Immigrant-Statistics/MonthlyIVIssuances/MAY%202022%20-%20IV%20Issuances%20by%20FSC%20or%20Place%20of%20Birth%20and%20Visa%20Class.pdf', 'https://travel.state.gov//content/dam/visas/Statistics/Immigrant-Statistics/MonthlyIVIssuances/JUNE%202022%20-%20IV%20Issuances%20by%20FSC%20or%20Place%20of%20Birth%20and%20Visa%20Class.pdf', 'https://travel.state.gov//content/dam/visas/Statistics/Immigrant-Statistics/MonthlyIVIssuances/JULY%202022%20-%20IV%20Issuances%20by%20FSC%20or%20Place%20of%20Birth%20and%20Visa%20Class.pdf', 'https://travel.state.gov//content/dam/visas/Statistics/Immigrant-Statistics/MonthlyIVIssuances/AUGUST%202022%20-%20IV%20Issuances%20by%20FSC%20or%20Place%20of%20Birth%20and%20Visa%20Class.pdf', 'https://travel.state.gov//content/dam/visas/Statistics/Immigrant-Statistics/MonthlyIVIssuances/SEPTEMBER%202022%20-%20IV%20Issuances%20by%20FSC%20or%20Place%20of%20Birth%20and%20Visa%20Class.pdf', 'https://travel.state.gov//content/dam/visas/Statistics/Immigrant-Statistics/MonthlyIVIssuances/OCTOBER%202022%20-%20IV%20Issuances%20by%20FSC%20or%20Place%20of%20Birth%20and%20Visa%20Class.pdf', 'https://travel.state.gov//content/dam/visas/Statistics/Immigrant-Statistics/MonthlyIVIssuances/NOVEMBER%202022%20-%20IV%20Issuances%20by%20FSC%20or%20Place%20of%20Birth%20and%20Visa%20Class.pdf', 'https://travel.state.gov//content/dam/visas/Statistics/Immigrant-Statistics/MonthlyIVIssuances/DECEMBER%202022%20-%20IV%20Issuances%20by%20FSC%20or%20Place%20of%20Birth%20and%20Visa%20Class.pdf', 'https://travel.state.gov//content/dam/visas/Statistics/Immigrant-Statistics/MonthlyIVIssuances/JANUARY%202023%20-%20IV%20Issuances%20by%20FSC%20or%20Place%20of%20Birth%20and%20Visa%20Class.pdf', 'https://travel.state.gov//content/dam/visas/Statistics/Immigrant-Statistics/MonthlyIVIssuances/FEBRUARY%202023%20-%20IV%20Issuances%20by%20FSC%20or%20Place%20of%20Birth%20and%20Visa%20Class.pdf', 'https://travel.state.gov//content/dam/visas/Statistics/Immigrant-Statistics/MonthlyIVIssuances/MARCH%202023%20-%20IV%20Issuances%20by%20FSC%20or%20Place%20of%20Birth%20and%20Visa%20Class.pdf', 'https://travel.state.gov//content/dam/visas/Statistics/Immigrant-Statistics/MonthlyIVIssuances/APRIL%202023%20-%20IV%20Issuances%20by%20FSC%20or%20Place%20of%20Birth%20and%20Visa%20Class.pdf', 'https://travel.state.gov//content/dam/visas/Statistics/Immigrant-Statistics/MonthlyIVIssuances/MAY%202023%20-%20IV%20Issuances%20by%20FSC%20or%20Place%20of%20Birth%20and%20Visa%20Class.pdf', 'https://travel.state.gov//content/dam/visas/Statistics/Immigrant-Statistics/MonthlyIVIssuances/JUNE%202023%20-%20IV%20Issuances%20by%20FSC%20or%20Place%20of%20Birth%20and%20Visa%20Class.pdf', 'https://travel.state.gov//content/dam/visas/Statistics/Immigrant-Statistics/MonthlyIVIssuances/JULY%202023%20-%20IV%20Issuances%20by%20FSC%20or%20Place%20of%20Birth%20and%20Visa%20Class.pdf', 'https://travel.state.gov//content/dam/visas/Statistics/Immigrant-Statistics/MonthlyIVIssuances/AUGUST%202023%20-%20IV%20Issuances%20by%20FSC%20or%20Place%20of%20Birth%20and%20Visa%20Class.pdf', 'https://travel.state.gov//content/dam/visas/Statistics/Immigrant-Statistics/MonthlyIVIssuances/SEPTEMBER%202023%20-%20IV%20Issuances%20by%20FSC%20or%20Place%20of%20Birth%20and%20Visa%20Class.pdf', 'https://travel.state.gov//content/dam/visas/Statistics/Immigrant-Statistics/MonthlyIVIssuances/OCTOBER%202023%20-%20IV%20Issuances%20by%20FSC%20or%20Place%20of%20Birth%20and%20Visa%20Class.pdf', 'https://travel.state.gov//content/dam/visas/Statistics/Immigrant-Statistics/MonthlyIVIssuances/NOVEMBER%202023%20-%20IV%20Issuances%20by%20FSC%20or%20Place%20of%20Birth%20and%20Visa%20Class.pdf', 'https://travel.state.gov//content/dam/visas/Statistics/Immigrant-Statistics/MonthlyIVIssuances/DECEMBER%202023%20-%20IV%20Issuances%20by%20FSC%20or%20Place%20of%20Birth%20and%20Visa%20Class.pdf', 'https://travel.state.gov//content/dam/visas/Statistics/Immigrant-Statistics/MonthlyIVIssuances/JANUARY%202024%20-%20IV%20Issuances%20by%20FSC%20or%20Place%20of%20Birth%20and%20Visa%20Class.pdf']\n"
     ]
    }
   ],
   "source": [
    "file_name = \"completed_target_links.tsv\"\n",
    "completed_target_links = []\n",
    "if os.path.exists(file_name):\n",
    "    print(f\"The file '{file_name}' exists in the current directory.\")\n",
    "    with open(file_name, 'r') as f:\n",
    "        # Read each line in the file\n",
    "        for line in f:\n",
    "            # Split the line by tabs to extract individual values\n",
    "            values = line.strip().split('\\t')\n",
    "            # Assuming the link is the first column, you can append it to the list\n",
    "            completed_target_links.append(values[0])  # Adjust the index if the link is in a different column\n",
    "    print(\"List of links from the TSV file:\")\n",
    "    print(completed_target_links)\n",
    "else:\n",
    "    print(f\"The file '{file_name}' does not exist in the current directory.\")"
   ],
   "metadata": {
    "collapsed": false,
    "ExecuteTime": {
     "end_time": "2024-03-07T01:45:32.023138Z",
     "start_time": "2024-03-07T01:45:32.017799Z"
    }
   },
   "id": "b40471cdd064a079",
   "execution_count": 27
  },
  {
   "cell_type": "code",
   "outputs": [
    {
     "data": {
      "text/plain": "['https://travel.state.gov//content/dam/visas/Statistics/Immigrant-Statistics/MonthlyIVIssuances/March%202017%20-%20IV%20Issuances%20by%20FSC%20and%20Visa%20Class%20-%20Worldwide.pdf',\n 'https://travel.state.gov//content/dam/visas/Statistics/Immigrant-Statistics/MonthlyIVIssuances/APRIL%202017%20-%20IV%20Issuances%20by%20FSC%20and%20Visa%20Class.pdf',\n 'https://travel.state.gov//content/dam/visas/Statistics/Immigrant-Statistics/MonthlyIVIssuances/MAY%202017%20-%20IV%20Issuances%20by%20FSC%20and%20Visa%20Class.pdf',\n 'https://travel.state.gov//content/dam/visas/Statistics/Immigrant-Statistics/MonthlyIVIssuances/JUNE%202017%20-%20IV%20Issuances%20by%20FSC%20and%20Visa%20Class.pdf',\n 'https://travel.state.gov//content/dam/visas/Statistics/Immigrant-Statistics/MonthlyIVIssuances/JULY%202017%20-%20IV%20Issuances%20by%20FSC%20and%20Visa%20Class.pdf',\n 'https://travel.state.gov//content/dam/visas/Statistics/Immigrant-Statistics/MonthlyIVIssuances/AUGUST%202017%20-%20IV%20Issuances%20by%20FSC%20and%20Visa%20Class.pdf',\n 'https://travel.state.gov//content/dam/visas/Statistics/Immigrant-Statistics/MonthlyIVIssuances/SEPTEMBER%202017%20-%20IV%20Issuances%20by%20FSC%20and%20Visa%20Class.pdf',\n 'https://travel.state.gov//content/dam/visas/Statistics/Immigrant-Statistics/MonthlyIVIssuances/OCTOBER%202017%20-%20IV%20Issuances%20by%20FSC%20and%20Visa%20Class.pdf',\n 'https://travel.state.gov//content/dam/visas/Statistics/Immigrant-Statistics/MonthlyIVIssuances/NOVEMBER%202017%20-%20IV%20Issuances%20by%20FSC%20and%20Visa%20Class.pdf',\n 'https://travel.state.gov//content/dam/visas/Statistics/Immigrant-Statistics/MonthlyIVIssuances/DECEMBER%202017%20-%20IV%20Issuances%20by%20FSC%20and%20Visa%20Class.pdf',\n 'https://travel.state.gov//content/dam/visas/Statistics/Immigrant-Statistics/MonthlyIVIssuances/JANUARY%202018%20-%20IV%20Issuances%20by%20FSC%20and%20Visa%20Class.pdf',\n 'https://travel.state.gov//content/dam/visas/Statistics/Immigrant-Statistics/MonthlyIVIssuances/FEBRUARY%202018%20-%20IV%20Issuances%20by%20FSC%20and%20Visa%20Class.pdf',\n 'https://travel.state.gov//content/dam/visas/Statistics/Immigrant-Statistics/MonthlyIVIssuances/MARCH%202018%20-%20IV%20Issuances%20by%20FSC%20and%20Visa%20Class.pdf',\n 'https://travel.state.gov//content/dam/visas/Statistics/Immigrant-Statistics/MonthlyIVIssuances/APRIL%202018%20-%20IV%20Issuances%20by%20FSC%20and%20Visa%20Class.pdf',\n 'https://travel.state.gov//content/dam/visas/Statistics/Immigrant-Statistics/MonthlyIVIssuances/MAY%202018%20-%20IV%20Issuances%20by%20FSC%20and%20Visa%20Class.pdf',\n 'https://travel.state.gov//content/dam/visas/Statistics/Immigrant-Statistics/MonthlyIVIssuances/June%202018%20-%20IV%20Issuances%20by%20FSC%20and%20Visa%20Class.pdf',\n 'https://travel.state.gov//content/dam/visas/Statistics/Immigrant-Statistics/MonthlyIVIssuances/JULY%202018%20-%20IV%20Issuances%20by%20FSC%20and%20Visa%20Class.pdf',\n 'https://travel.state.gov//content/dam/visas/Statistics/Immigrant-Statistics/MonthlyIVIssuances/AUGUST%202018%20-%20IV%20Issuances%20by%20FSC%20and%20Visa%20Class.pdf',\n 'https://travel.state.gov//content/dam/visas/Statistics/Immigrant-Statistics/MonthlyIVIssuances/SEPTEMBER%202018%20-%20IV%20Issuances%20by%20FSC%20and%20Visa%20Class.pdf',\n 'https://travel.state.gov//content/dam/visas/Statistics/Immigrant-Statistics/MonthlyIVIssuances/October%202018%20-%20IV%20Issuances%20by%20FSC%20and%20Visa%20Class.pdf',\n 'https://travel.state.gov//content/dam/visas/Statistics/Immigrant-Statistics/MonthlyIVIssuances/November%202018%20-%20IV%20Issuances%20by%20FSC%20and%20Visa%20Class.pdf',\n 'https://travel.state.gov//content/dam/visas/Statistics/Immigrant-Statistics/MonthlyIVIssuances/DECEMBER%202018%20-%20IV%20Issuances%20by%20FSC%20and%20Visa%20Class.pdf',\n 'https://travel.state.gov//content/dam/visas/Statistics/Immigrant-Statistics/MonthlyIVIssuances/JANUARY%202019%20-%20IV%20Issuances%20by%20FSC%20and%20Visa%20Class.pdf',\n 'https://travel.state.gov//content/dam/visas/Statistics/Immigrant-Statistics/MonthlyIVIssuances/FEBRUARY%202019%20-%20IV%20Issuances%20by%20FSC%20and%20Visa%20Class.pdf',\n 'https://travel.state.gov//content/dam/visas/Statistics/Immigrant-Statistics/MonthlyIVIssuances/MARCH%202019%20-%20IV%20Issuances%20by%20FSC%20and%20Visa%20Class.pdf',\n 'https://travel.state.gov//content/dam/visas/Statistics/Immigrant-Statistics/MonthlyIVIssuances/APRIL%202019%20-%20IV%20Issuances%20by%20FSC%20and%20Visa%20Class.pdf',\n 'https://travel.state.gov//content/dam/visas/Statistics/Immigrant-Statistics/MonthlyIVIssuances/MAY%202019%20-%20IV%20Issuances%20by%20FSC%20and%20Visa%20Class.pdf',\n 'https://travel.state.gov//content/dam/visas/Statistics/Immigrant-Statistics/MonthlyIVIssuances/JUNE%202019%20-%20IV%20Issuances%20by%20FSC%20and%20Visa%20Class.pdf',\n 'https://travel.state.gov//content/dam/visas/Statistics/Immigrant-Statistics/MonthlyIVIssuances/JULY%202019%20-%20IV%20Issuances%20by%20FSC%20and%20Visa%20Class.pdf',\n 'https://travel.state.gov//content/dam/visas/Statistics/Immigrant-Statistics/MonthlyIVIssuances/AUGUST%202019%20-%20IV%20Issuances%20by%20FSC%20and%20Visa%20Class.pdf',\n 'https://travel.state.gov//content/dam/visas/Statistics/Immigrant-Statistics/MonthlyIVIssuances/SEPTEMBER%202019%20-%20IV%20Issuances%20by%20FSC%20and%20Visa%20Class.pdf',\n 'https://travel.state.gov//content/dam/visas/Statistics/Immigrant-Statistics/MonthlyIVIssuances/OCTOBER%202019%20IV%20Issuances%20by%20FSC%20and%20Visa%20Class.pdf',\n 'https://travel.state.gov//content/dam/visas/Statistics/Immigrant-Statistics/MonthlyIVIssuances/NOVEMBER%202019%20-%20IV%20Issuances%20by%20FSC%20and%20Visa%20Class.pdf',\n 'https://travel.state.gov//content/dam/visas/Statistics/Immigrant-Statistics/MonthlyIVIssuances/DECEMBER%202019%20-%20IV%20Issuances%20by%20FSC%20and%20Visa%20Class.pdf',\n 'https://travel.state.gov//content/dam/visas/Statistics/Immigrant-Statistics/MonthlyIVIssuances/JANUARY%202020%20-%20IV%20Issuances%20by%20FSC%20and%20Visa%20Class.pdf',\n 'https://travel.state.gov//content/dam/visas/Statistics/Immigrant-Statistics/MonthlyIVIssuances/FEBRUARY%202020%20-%20IV%20Issuances%20by%20FSC%20and%20Visa%20Class.pdf',\n 'https://travel.state.gov//content/dam/visas/Statistics/Immigrant-Statistics/MonthlyIVIssuances/MARCH%202020%20-%20IV%20Issuances%20by%20FSC%20and%20Visa%20Class.pdf',\n 'https://travel.state.gov//content/dam/visas/Statistics/Immigrant-Statistics/MonthlyIVIssuances/APRIL%202020%20-%20IV%20Issuances%20by%20FSC%20and%20Visa%20Class.pdf',\n 'https://travel.state.gov//content/dam/visas/Statistics/Immigrant-Statistics/MonthlyIVIssuances/MAY%202020%20-%20IV%20Issuances%20by%20FSC%20and%20Visa%20Class.pdf',\n 'https://travel.state.gov//content/dam/visas/Statistics/Immigrant-Statistics/MonthlyIVIssuances/June%202020%20-%20IV%20Issuances%20by%20FSC%20and%20Visa%20Class.pdf',\n 'https://travel.state.gov//content/dam/visas/Statistics/Immigrant-Statistics/MonthlyIVIssuances/JULY%202020%20%20-%20IV%20Issuances%20by%20FSC%20and%20Visa%20Class.pdf',\n 'https://travel.state.gov//content/dam/visas/Statistics/Immigrant-Statistics/MonthlyIVIssuances/AUGUST%202020%20-%20IV%20Issuances%20by%20FSC%20and%20Visa%20Class.pdf',\n 'https://travel.state.gov//content/dam/visas/Statistics/Immigrant-Statistics/MonthlyIVIssuances/SEPT%202020%20-%20IV%20Issuances%20by%20FSC%20and%20Visa%20Class.pdf',\n 'https://travel.state.gov//content/dam/visas/Statistics/Immigrant-Statistics/MonthlyIVIssuances/OCTOBER%202020%20-%20IV%20Issuances%20by%20FSC%20and%20Visa%20Class.pdf',\n 'https://travel.state.gov//content/dam/visas/Statistics/Immigrant-Statistics/MonthlyIVIssuances/NOVEMBER%202020%20-%20IV%20Issuances%20by%20FSC%20and%20Visa%20Class.pdf',\n 'https://travel.state.gov//content/dam/visas/Statistics/Immigrant-Statistics/MonthlyIVIssuances/DECEMBER%202020%20-%20IV%20Issuances%20by%20FSC%20and%20Visa%20Class.pdf',\n 'https://travel.state.gov//content/dam/visas/Statistics/Immigrant-Statistics/MonthlyIVIssuances/JANUARY%202021%20-%20IV%20Issuances%20by%20FSC%20and%20Visa%20Class.pdf',\n 'https://travel.state.gov//content/dam/visas/Statistics/Immigrant-Statistics/MonthlyIVIssuances/FEBRUARY%202021%20-%20IV%20Issuances%20by%20FSC%20and%20Visa%20Class.pdf',\n 'https://travel.state.gov//content/dam/visas/Statistics/Immigrant-Statistics/MonthlyIVIssuances/MARCH%202021%20-%20IV%20Issuances%20by%20FSC%20or%20Place%20of%20Birth%20and%20Visa%20Class.pdf',\n 'https://travel.state.gov//content/dam/visas/Statistics/Immigrant-Statistics/MonthlyIVIssuances/APRIL%202021%20-%20IV%20Issuances%20by%20FSC%20or%20Place%20of%20Birth%20and%20Visa%20Class.pdf',\n 'https://travel.state.gov//content/dam/visas/Statistics/Immigrant-Statistics/MonthlyIVIssuances/MAY2021%20-%20IV%20Issuances%20by%20FSC%20or%20Place%20of%20Birth%20and%20Visa%20Class.pdf',\n 'https://travel.state.gov//content/dam/visas/Statistics/Immigrant-Statistics/MonthlyIVIssuances/JUNE2021%20-%20IV%20Issuances%20by%20FSC%20or%20Place%20of%20Birth%20and%20Visa%20Class.pdf',\n 'https://travel.state.gov//content/dam/visas/Statistics/Immigrant-Statistics/MonthlyIVIssuances/JULY2021%20-%20IV%20Issuances%20by%20FSC%20or%20Place%20of%20Birth%20and%20Visa%20Class.pdf',\n 'https://travel.state.gov//content/dam/visas/Statistics/Immigrant-Statistics/MonthlyIVIssuances/AUGUST2021%20-%20IV%20Issuances%20by%20FSC%20or%20Place%20of%20Birth%20and%20Visa%20Class.pdf',\n 'https://travel.state.gov//content/dam/visas/Statistics/Immigrant-Statistics/MonthlyIVIssuances/SEPTEMBER2021%20-%20IV%20Issuances%20by%20FSC%20or%20Place%20of%20Birth%20and%20Visa%20Class.pdf',\n 'https://travel.state.gov//content/dam/visas/Statistics/Immigrant-Statistics/MonthlyIVIssuances/OCTOBER2021%20-%20IV%20Issuances%20by%20FSC%20or%20Place%20of%20Birth%20and%20Visa%20Class.pdf',\n 'https://travel.state.gov//content/dam/visas/Statistics/Immigrant-Statistics/MonthlyIVIssuances/NOVEMBER2021%20-%20IV%20Issuances%20by%20FSC%20or%20Place%20of%20Birth%20and%20Visa%20Class.pdf',\n 'https://travel.state.gov//content/dam/visas/Statistics/Immigrant-Statistics/MonthlyIVIssuances/DECEMBER2021%20-%20IV%20Issuances%20by%20FSC%20or%20Place%20of%20Birth%20and%20Visa%20Class.pdf',\n 'https://travel.state.gov//content/dam/visas/Statistics/Immigrant-Statistics/MonthlyIVIssuances/JANUARY2022%20-%20IV%20Issuances%20by%20FSC%20or%20Place%20of%20Birth%20and%20Visa%20Class.pdf',\n 'https://travel.state.gov//content/dam/visas/Statistics/Immigrant-Statistics/MonthlyIVIssuances/FEBRUARY%202022%20-%20IV%20Issuances%20by%20FSC%20or%20Place%20of%20Birth%20and%20Visa%20Class.pdf',\n 'https://travel.state.gov//content/dam/visas/Statistics/Immigrant-Statistics/MonthlyIVIssuances/MARCH%202022%20-%20IV%20Issuances%20by%20FSC%20or%20Place%20of%20Birth%20and%20Visa%20Class.pdf',\n 'https://travel.state.gov//content/dam/visas/Statistics/Immigrant-Statistics/MonthlyIVIssuances/APRIL%202022%20-%20IV%20Issuances%20by%20FSC%20or%20Place%20of%20Birth%20and%20Visa%20Class.pdf',\n 'https://travel.state.gov//content/dam/visas/Statistics/Immigrant-Statistics/MonthlyIVIssuances/MAY%202022%20-%20IV%20Issuances%20by%20FSC%20or%20Place%20of%20Birth%20and%20Visa%20Class.pdf',\n 'https://travel.state.gov//content/dam/visas/Statistics/Immigrant-Statistics/MonthlyIVIssuances/JUNE%202022%20-%20IV%20Issuances%20by%20FSC%20or%20Place%20of%20Birth%20and%20Visa%20Class.pdf',\n 'https://travel.state.gov//content/dam/visas/Statistics/Immigrant-Statistics/MonthlyIVIssuances/JULY%202022%20-%20IV%20Issuances%20by%20FSC%20or%20Place%20of%20Birth%20and%20Visa%20Class.pdf',\n 'https://travel.state.gov//content/dam/visas/Statistics/Immigrant-Statistics/MonthlyIVIssuances/AUGUST%202022%20-%20IV%20Issuances%20by%20FSC%20or%20Place%20of%20Birth%20and%20Visa%20Class.pdf',\n 'https://travel.state.gov//content/dam/visas/Statistics/Immigrant-Statistics/MonthlyIVIssuances/SEPTEMBER%202022%20-%20IV%20Issuances%20by%20FSC%20or%20Place%20of%20Birth%20and%20Visa%20Class.pdf',\n 'https://travel.state.gov//content/dam/visas/Statistics/Immigrant-Statistics/MonthlyIVIssuances/OCTOBER%202022%20-%20IV%20Issuances%20by%20FSC%20or%20Place%20of%20Birth%20and%20Visa%20Class.pdf',\n 'https://travel.state.gov//content/dam/visas/Statistics/Immigrant-Statistics/MonthlyIVIssuances/NOVEMBER%202022%20-%20IV%20Issuances%20by%20FSC%20or%20Place%20of%20Birth%20and%20Visa%20Class.pdf',\n 'https://travel.state.gov//content/dam/visas/Statistics/Immigrant-Statistics/MonthlyIVIssuances/DECEMBER%202022%20-%20IV%20Issuances%20by%20FSC%20or%20Place%20of%20Birth%20and%20Visa%20Class.pdf',\n 'https://travel.state.gov//content/dam/visas/Statistics/Immigrant-Statistics/MonthlyIVIssuances/JANUARY%202023%20-%20IV%20Issuances%20by%20FSC%20or%20Place%20of%20Birth%20and%20Visa%20Class.pdf',\n 'https://travel.state.gov//content/dam/visas/Statistics/Immigrant-Statistics/MonthlyIVIssuances/FEBRUARY%202023%20-%20IV%20Issuances%20by%20FSC%20or%20Place%20of%20Birth%20and%20Visa%20Class.pdf',\n 'https://travel.state.gov//content/dam/visas/Statistics/Immigrant-Statistics/MonthlyIVIssuances/MARCH%202023%20-%20IV%20Issuances%20by%20FSC%20or%20Place%20of%20Birth%20and%20Visa%20Class.pdf',\n 'https://travel.state.gov//content/dam/visas/Statistics/Immigrant-Statistics/MonthlyIVIssuances/APRIL%202023%20-%20IV%20Issuances%20by%20FSC%20or%20Place%20of%20Birth%20and%20Visa%20Class.pdf',\n 'https://travel.state.gov//content/dam/visas/Statistics/Immigrant-Statistics/MonthlyIVIssuances/MAY%202023%20-%20IV%20Issuances%20by%20FSC%20or%20Place%20of%20Birth%20and%20Visa%20Class.pdf',\n 'https://travel.state.gov//content/dam/visas/Statistics/Immigrant-Statistics/MonthlyIVIssuances/JUNE%202023%20-%20IV%20Issuances%20by%20FSC%20or%20Place%20of%20Birth%20and%20Visa%20Class.pdf',\n 'https://travel.state.gov//content/dam/visas/Statistics/Immigrant-Statistics/MonthlyIVIssuances/JULY%202023%20-%20IV%20Issuances%20by%20FSC%20or%20Place%20of%20Birth%20and%20Visa%20Class.pdf',\n 'https://travel.state.gov//content/dam/visas/Statistics/Immigrant-Statistics/MonthlyIVIssuances/AUGUST%202023%20-%20IV%20Issuances%20by%20FSC%20or%20Place%20of%20Birth%20and%20Visa%20Class.pdf',\n 'https://travel.state.gov//content/dam/visas/Statistics/Immigrant-Statistics/MonthlyIVIssuances/SEPTEMBER%202023%20-%20IV%20Issuances%20by%20FSC%20or%20Place%20of%20Birth%20and%20Visa%20Class.pdf',\n 'https://travel.state.gov//content/dam/visas/Statistics/Immigrant-Statistics/MonthlyIVIssuances/OCTOBER%202023%20-%20IV%20Issuances%20by%20FSC%20or%20Place%20of%20Birth%20and%20Visa%20Class.pdf',\n 'https://travel.state.gov//content/dam/visas/Statistics/Immigrant-Statistics/MonthlyIVIssuances/NOVEMBER%202023%20-%20IV%20Issuances%20by%20FSC%20or%20Place%20of%20Birth%20and%20Visa%20Class.pdf',\n 'https://travel.state.gov//content/dam/visas/Statistics/Immigrant-Statistics/MonthlyIVIssuances/DECEMBER%202023%20-%20IV%20Issuances%20by%20FSC%20or%20Place%20of%20Birth%20and%20Visa%20Class.pdf',\n 'https://travel.state.gov//content/dam/visas/Statistics/Immigrant-Statistics/MonthlyIVIssuances/JANUARY%202024%20-%20IV%20Issuances%20by%20FSC%20or%20Place%20of%20Birth%20and%20Visa%20Class.pdf']"
     },
     "execution_count": 28,
     "metadata": {},
     "output_type": "execute_result"
    }
   ],
   "source": [
    "completed_target_links"
   ],
   "metadata": {
    "collapsed": false,
    "ExecuteTime": {
     "end_time": "2024-03-07T01:45:48.947123Z",
     "start_time": "2024-03-07T01:45:48.940936Z"
    }
   },
   "id": "bb55bcb27f72aa6",
   "execution_count": 28
  },
  {
   "cell_type": "code",
   "outputs": [
    {
     "name": "stdout",
     "output_type": "stream",
     "text": [
      "yes\n",
      "File already downloaded: NOVEMBER%202017%20-%20IV%20Issuances%20by%20FSC%20and%20Visa%20Class.pdf\n",
      "File already downloaded: NOVEMBER%202017%20-%20IV%20Issuances%20by%20FSC%20and%20Visa%20Class.pdf\n",
      "File already downloaded: NOVEMBER%202017%20-%20IV%20Issuances%20by%20FSC%20and%20Visa%20Class.pdf\n",
      "File already downloaded: NOVEMBER%202017%20-%20IV%20Issuances%20by%20FSC%20and%20Visa%20Class.pdf\n",
      "File already downloaded: NOVEMBER%202017%20-%20IV%20Issuances%20by%20FSC%20and%20Visa%20Class.pdf\n",
      "File already downloaded: NOVEMBER%202017%20-%20IV%20Issuances%20by%20FSC%20and%20Visa%20Class.pdf\n",
      "File already downloaded: NOVEMBER%202017%20-%20IV%20Issuances%20by%20FSC%20and%20Visa%20Class.pdf\n",
      "File already downloaded: NOVEMBER%202017%20-%20IV%20Issuances%20by%20FSC%20and%20Visa%20Class.pdf\n",
      "File already downloaded: NOVEMBER%202017%20-%20IV%20Issuances%20by%20FSC%20and%20Visa%20Class.pdf\n",
      "File already downloaded: NOVEMBER%202017%20-%20IV%20Issuances%20by%20FSC%20and%20Visa%20Class.pdf\n",
      "File already downloaded: NOVEMBER%202017%20-%20IV%20Issuances%20by%20FSC%20and%20Visa%20Class.pdf\n",
      "File already downloaded: NOVEMBER%202017%20-%20IV%20Issuances%20by%20FSC%20and%20Visa%20Class.pdf\n",
      "File already downloaded: NOVEMBER%202017%20-%20IV%20Issuances%20by%20FSC%20and%20Visa%20Class.pdf\n",
      "File already downloaded: NOVEMBER%202017%20-%20IV%20Issuances%20by%20FSC%20and%20Visa%20Class.pdf\n",
      "File already downloaded: NOVEMBER%202017%20-%20IV%20Issuances%20by%20FSC%20and%20Visa%20Class.pdf\n",
      "File already downloaded: NOVEMBER%202017%20-%20IV%20Issuances%20by%20FSC%20and%20Visa%20Class.pdf\n",
      "File already downloaded: NOVEMBER%202017%20-%20IV%20Issuances%20by%20FSC%20and%20Visa%20Class.pdf\n",
      "File already downloaded: NOVEMBER%202017%20-%20IV%20Issuances%20by%20FSC%20and%20Visa%20Class.pdf\n",
      "File already downloaded: NOVEMBER%202017%20-%20IV%20Issuances%20by%20FSC%20and%20Visa%20Class.pdf\n",
      "File already downloaded: NOVEMBER%202017%20-%20IV%20Issuances%20by%20FSC%20and%20Visa%20Class.pdf\n",
      "File already downloaded: NOVEMBER%202017%20-%20IV%20Issuances%20by%20FSC%20and%20Visa%20Class.pdf\n",
      "File already downloaded: NOVEMBER%202017%20-%20IV%20Issuances%20by%20FSC%20and%20Visa%20Class.pdf\n",
      "File already downloaded: NOVEMBER%202017%20-%20IV%20Issuances%20by%20FSC%20and%20Visa%20Class.pdf\n",
      "File already downloaded: NOVEMBER%202017%20-%20IV%20Issuances%20by%20FSC%20and%20Visa%20Class.pdf\n",
      "File already downloaded: NOVEMBER%202017%20-%20IV%20Issuances%20by%20FSC%20and%20Visa%20Class.pdf\n",
      "File already downloaded: NOVEMBER%202017%20-%20IV%20Issuances%20by%20FSC%20and%20Visa%20Class.pdf\n",
      "File already downloaded: NOVEMBER%202017%20-%20IV%20Issuances%20by%20FSC%20and%20Visa%20Class.pdf\n",
      "File already downloaded: NOVEMBER%202017%20-%20IV%20Issuances%20by%20FSC%20and%20Visa%20Class.pdf\n",
      "File already downloaded: NOVEMBER%202017%20-%20IV%20Issuances%20by%20FSC%20and%20Visa%20Class.pdf\n",
      "File already downloaded: NOVEMBER%202017%20-%20IV%20Issuances%20by%20FSC%20and%20Visa%20Class.pdf\n",
      "File already downloaded: NOVEMBER%202017%20-%20IV%20Issuances%20by%20FSC%20and%20Visa%20Class.pdf\n",
      "File already downloaded: NOVEMBER%202017%20-%20IV%20Issuances%20by%20FSC%20and%20Visa%20Class.pdf\n",
      "File already downloaded: NOVEMBER%202017%20-%20IV%20Issuances%20by%20FSC%20and%20Visa%20Class.pdf\n",
      "File already downloaded: NOVEMBER%202017%20-%20IV%20Issuances%20by%20FSC%20and%20Visa%20Class.pdf\n",
      "File already downloaded: NOVEMBER%202017%20-%20IV%20Issuances%20by%20FSC%20and%20Visa%20Class.pdf\n",
      "File already downloaded: NOVEMBER%202017%20-%20IV%20Issuances%20by%20FSC%20and%20Visa%20Class.pdf\n",
      "File already downloaded: NOVEMBER%202017%20-%20IV%20Issuances%20by%20FSC%20and%20Visa%20Class.pdf\n",
      "File already downloaded: NOVEMBER%202017%20-%20IV%20Issuances%20by%20FSC%20and%20Visa%20Class.pdf\n",
      "File already downloaded: NOVEMBER%202017%20-%20IV%20Issuances%20by%20FSC%20and%20Visa%20Class.pdf\n",
      "File already downloaded: NOVEMBER%202017%20-%20IV%20Issuances%20by%20FSC%20and%20Visa%20Class.pdf\n",
      "File already downloaded: NOVEMBER%202017%20-%20IV%20Issuances%20by%20FSC%20and%20Visa%20Class.pdf\n",
      "File already downloaded: NOVEMBER%202017%20-%20IV%20Issuances%20by%20FSC%20and%20Visa%20Class.pdf\n",
      "File already downloaded: NOVEMBER%202017%20-%20IV%20Issuances%20by%20FSC%20and%20Visa%20Class.pdf\n",
      "File already downloaded: NOVEMBER%202017%20-%20IV%20Issuances%20by%20FSC%20and%20Visa%20Class.pdf\n",
      "File already downloaded: NOVEMBER%202017%20-%20IV%20Issuances%20by%20FSC%20and%20Visa%20Class.pdf\n",
      "File already downloaded: NOVEMBER%202017%20-%20IV%20Issuances%20by%20FSC%20and%20Visa%20Class.pdf\n",
      "File already downloaded: NOVEMBER%202017%20-%20IV%20Issuances%20by%20FSC%20and%20Visa%20Class.pdf\n",
      "File already downloaded: NOVEMBER%202017%20-%20IV%20Issuances%20by%20FSC%20and%20Visa%20Class.pdf\n",
      "File already downloaded: NOVEMBER%202017%20-%20IV%20Issuances%20by%20FSC%20and%20Visa%20Class.pdf\n",
      "File already downloaded: NOVEMBER%202017%20-%20IV%20Issuances%20by%20FSC%20and%20Visa%20Class.pdf\n",
      "File already downloaded: NOVEMBER%202017%20-%20IV%20Issuances%20by%20FSC%20and%20Visa%20Class.pdf\n",
      "File already downloaded: NOVEMBER%202017%20-%20IV%20Issuances%20by%20FSC%20and%20Visa%20Class.pdf\n",
      "File already downloaded: NOVEMBER%202017%20-%20IV%20Issuances%20by%20FSC%20and%20Visa%20Class.pdf\n",
      "File already downloaded: NOVEMBER%202017%20-%20IV%20Issuances%20by%20FSC%20and%20Visa%20Class.pdf\n",
      "File already downloaded: NOVEMBER%202017%20-%20IV%20Issuances%20by%20FSC%20and%20Visa%20Class.pdf\n",
      "File already downloaded: NOVEMBER%202017%20-%20IV%20Issuances%20by%20FSC%20and%20Visa%20Class.pdf\n",
      "File already downloaded: NOVEMBER%202017%20-%20IV%20Issuances%20by%20FSC%20and%20Visa%20Class.pdf\n",
      "File already downloaded: NOVEMBER%202017%20-%20IV%20Issuances%20by%20FSC%20and%20Visa%20Class.pdf\n",
      "File already downloaded: NOVEMBER%202017%20-%20IV%20Issuances%20by%20FSC%20and%20Visa%20Class.pdf\n",
      "File already downloaded: NOVEMBER%202017%20-%20IV%20Issuances%20by%20FSC%20and%20Visa%20Class.pdf\n",
      "File already downloaded: NOVEMBER%202017%20-%20IV%20Issuances%20by%20FSC%20and%20Visa%20Class.pdf\n",
      "File already downloaded: NOVEMBER%202017%20-%20IV%20Issuances%20by%20FSC%20and%20Visa%20Class.pdf\n",
      "File already downloaded: NOVEMBER%202017%20-%20IV%20Issuances%20by%20FSC%20and%20Visa%20Class.pdf\n",
      "File already downloaded: NOVEMBER%202017%20-%20IV%20Issuances%20by%20FSC%20and%20Visa%20Class.pdf\n",
      "File already downloaded: NOVEMBER%202017%20-%20IV%20Issuances%20by%20FSC%20and%20Visa%20Class.pdf\n",
      "File already downloaded: NOVEMBER%202017%20-%20IV%20Issuances%20by%20FSC%20and%20Visa%20Class.pdf\n",
      "File already downloaded: NOVEMBER%202017%20-%20IV%20Issuances%20by%20FSC%20and%20Visa%20Class.pdf\n",
      "File already downloaded: NOVEMBER%202017%20-%20IV%20Issuances%20by%20FSC%20and%20Visa%20Class.pdf\n",
      "File already downloaded: NOVEMBER%202017%20-%20IV%20Issuances%20by%20FSC%20and%20Visa%20Class.pdf\n",
      "File already downloaded: NOVEMBER%202017%20-%20IV%20Issuances%20by%20FSC%20and%20Visa%20Class.pdf\n",
      "File already downloaded: NOVEMBER%202017%20-%20IV%20Issuances%20by%20FSC%20and%20Visa%20Class.pdf\n",
      "File already downloaded: NOVEMBER%202017%20-%20IV%20Issuances%20by%20FSC%20and%20Visa%20Class.pdf\n",
      "File already downloaded: NOVEMBER%202017%20-%20IV%20Issuances%20by%20FSC%20and%20Visa%20Class.pdf\n",
      "File already downloaded: NOVEMBER%202017%20-%20IV%20Issuances%20by%20FSC%20and%20Visa%20Class.pdf\n",
      "File already downloaded: NOVEMBER%202017%20-%20IV%20Issuances%20by%20FSC%20and%20Visa%20Class.pdf\n",
      "File already downloaded: NOVEMBER%202017%20-%20IV%20Issuances%20by%20FSC%20and%20Visa%20Class.pdf\n",
      "File already downloaded: NOVEMBER%202017%20-%20IV%20Issuances%20by%20FSC%20and%20Visa%20Class.pdf\n",
      "File already downloaded: NOVEMBER%202017%20-%20IV%20Issuances%20by%20FSC%20and%20Visa%20Class.pdf\n",
      "File already downloaded: NOVEMBER%202017%20-%20IV%20Issuances%20by%20FSC%20and%20Visa%20Class.pdf\n",
      "File already downloaded: NOVEMBER%202017%20-%20IV%20Issuances%20by%20FSC%20and%20Visa%20Class.pdf\n",
      "File already downloaded: NOVEMBER%202017%20-%20IV%20Issuances%20by%20FSC%20and%20Visa%20Class.pdf\n",
      "File already downloaded: NOVEMBER%202017%20-%20IV%20Issuances%20by%20FSC%20and%20Visa%20Class.pdf\n",
      "File already downloaded: NOVEMBER%202017%20-%20IV%20Issuances%20by%20FSC%20and%20Visa%20Class.pdf\n"
     ]
    }
   ],
   "source": [
    "if 'completed_target_links' in locals():\n",
    "    print('yes')\n",
    "    for link in target_links:\n",
    "        if link in completed_target_links:\n",
    "            print(f\"File already downloaded: {filename}\")\n",
    "        else:\n",
    "            filename = os.path.basename(link)\n",
    "            # Create the full file path to save the file\n",
    "            file_path = os.path.join(folder_path, filename)\n",
    "            \n",
    "            # Download the file\n",
    "            response = requests.get(link)\n",
    "            \n",
    "            # Check if the request was successful (status code 200)\n",
    "            if response.status_code == 200:\n",
    "                # Save the file\n",
    "                with open(file_path, 'wb') as file:\n",
    "                    file.write(response.content)\n",
    "                print(f\"File downloaded successfully: {filename}\")\n",
    "            else:\n",
    "                print(f\"Failed to download file: {filename}\")\n",
    "            \n",
    "            # Introduce a delay of 0.5 to 3 seconds after each download\n",
    "            time.sleep(random.uniform(0.5, 3.0))\n",
    "            \n",
    "else:\n",
    "    print('no')\n",
    "    for link in target_links:\n",
    "        filename = os.path.basename(link)\n",
    "        # Create the full file path to save the file\n",
    "        file_path = os.path.join(folder_path, filename)\n",
    "        \n",
    "        # Download the file\n",
    "        response = requests.get(link)\n",
    "        \n",
    "        # Check if the request was successful (status code 200)\n",
    "        if response.status_code == 200:\n",
    "            # Save the file\n",
    "            with open(file_path, 'wb') as file:\n",
    "                file.write(response.content)\n",
    "            print(f\"File downloaded successfully: {filename}\")\n",
    "        else:\n",
    "            print(f\"Failed to download file: {filename}\")\n",
    "        \n",
    "        # Introduce a delay of 0.5 to 3 seconds after each download\n",
    "        time.sleep(random.uniform(0.5, 3.0))"
   ],
   "metadata": {
    "collapsed": false,
    "ExecuteTime": {
     "end_time": "2024-03-07T01:47:20.808901Z",
     "start_time": "2024-03-07T01:47:20.800779Z"
    }
   },
   "id": "2d6144fd5895643e",
   "execution_count": 29
  },
  {
   "cell_type": "markdown",
   "source": [
    "If there are no errors in downloading the file, save the links in target_links to completed_target_links.tsv"
   ],
   "metadata": {
    "collapsed": false
   },
   "id": "f2fdd55cfd85f948"
  },
  {
   "cell_type": "code",
   "outputs": [
    {
     "name": "stdout",
     "output_type": "stream",
     "text": [
      "Target links have been saved to completed_target_links.tsv\n"
     ]
    }
   ],
   "source": [
    "filename = 'completed_target_links.tsv'\n",
    "\n",
    "# Write the target_links list to a TSV file using the \\t delimiter\n",
    "with open(filename, 'w') as f:\n",
    "    for link in target_links:\n",
    "        f.write(f\"{link}\\t\\n\")\n",
    "\n",
    "print(f\"Target links have been saved to {filename}\")"
   ],
   "metadata": {
    "collapsed": false,
    "ExecuteTime": {
     "end_time": "2024-03-07T01:40:13.499140Z",
     "start_time": "2024-03-07T01:40:13.494977Z"
    }
   },
   "id": "3abceda362a1ed30",
   "execution_count": 21
  },
  {
   "cell_type": "code",
   "outputs": [],
   "source": [],
   "metadata": {
    "collapsed": false
   },
   "id": "8f0930482e52d86f"
  }
 ],
 "metadata": {
  "kernelspec": {
   "name": "immigration_data_project",
   "language": "python",
   "display_name": "immigration_data_project"
  },
  "language_info": {
   "codemirror_mode": {
    "name": "ipython",
    "version": 2
   },
   "file_extension": ".py",
   "mimetype": "text/x-python",
   "name": "python",
   "nbconvert_exporter": "python",
   "pygments_lexer": "ipython2",
   "version": "2.7.6"
  }
 },
 "nbformat": 4,
 "nbformat_minor": 5
}
